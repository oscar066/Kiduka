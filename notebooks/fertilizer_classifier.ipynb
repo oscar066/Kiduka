{
 "cells": [
  {
   "cell_type": "code",
   "execution_count": 3,
   "metadata": {},
   "outputs": [],
   "source": [
    "import pandas as pd\n",
    "import numpy as np\n",
    "import matplotlib.pyplot as plt\n",
    "import seaborn as sns\n",
    "\n",
    "from sklearn.preprocessing import StandardScaler, MinMaxScaler\n",
    "from sklearn.preprocessing import LabelEncoder\n",
    "from imblearn.over_sampling import SMOTE\n",
    "\n",
    "from api.preprocessing import SoilDataPreprocessor\n",
    "\n",
    "import joblib\n",
    "\n",
    "sns.set_style(\"darkgrid\")"
   ]
  },
  {
   "cell_type": "code",
   "execution_count": 4,
   "metadata": {},
   "outputs": [
    {
     "data": {
      "text/html": [
       "<div>\n",
       "<style scoped>\n",
       "    .dataframe tbody tr th:only-of-type {\n",
       "        vertical-align: middle;\n",
       "    }\n",
       "\n",
       "    .dataframe tbody tr th {\n",
       "        vertical-align: top;\n",
       "    }\n",
       "\n",
       "    .dataframe thead th {\n",
       "        text-align: right;\n",
       "    }\n",
       "</style>\n",
       "<table border=\"1\" class=\"dataframe\">\n",
       "  <thead>\n",
       "    <tr style=\"text-align: right;\">\n",
       "      <th></th>\n",
       "      <th>simpliedtexture(1)</th>\n",
       "      <th>ph</th>\n",
       "      <th>n</th>\n",
       "      <th>p</th>\n",
       "      <th>k</th>\n",
       "      <th>o</th>\n",
       "      <th>ca</th>\n",
       "      <th>mg</th>\n",
       "      <th>cu</th>\n",
       "      <th>fe</th>\n",
       "      <th>zn</th>\n",
       "      <th>soilfertilitystatus</th>\n",
       "      <th>croprecommendation1</th>\n",
       "      <th>croprecommendation2</th>\n",
       "      <th>fertilizerrecommendation1</th>\n",
       "      <th>fertilizerrecommendation2</th>\n",
       "    </tr>\n",
       "  </thead>\n",
       "  <tbody>\n",
       "    <tr>\n",
       "      <th>0</th>\n",
       "      <td>SILTY SOIL</td>\n",
       "      <td>4.9</td>\n",
       "      <td>0.14</td>\n",
       "      <td>22.9</td>\n",
       "      <td>0.14</td>\n",
       "      <td>1.1</td>\n",
       "      <td>1.3</td>\n",
       "      <td>2.2</td>\n",
       "      <td>1.2</td>\n",
       "      <td>10.1</td>\n",
       "      <td>5.6</td>\n",
       "      <td>VERY POOR</td>\n",
       "      <td>CASSAVA</td>\n",
       "      <td>COTTON</td>\n",
       "      <td>NPK</td>\n",
       "      <td>NPK</td>\n",
       "    </tr>\n",
       "    <tr>\n",
       "      <th>1</th>\n",
       "      <td>LOAMY SOIL</td>\n",
       "      <td>5.7</td>\n",
       "      <td>0.14</td>\n",
       "      <td>28.3</td>\n",
       "      <td>0.27</td>\n",
       "      <td>1.3</td>\n",
       "      <td>1.8</td>\n",
       "      <td>2.1</td>\n",
       "      <td>1.2</td>\n",
       "      <td>12.9</td>\n",
       "      <td>5.2</td>\n",
       "      <td>MODERATELY HEALTHY</td>\n",
       "      <td>BANANA</td>\n",
       "      <td>ALVS</td>\n",
       "      <td>NPK</td>\n",
       "      <td>NPK</td>\n",
       "    </tr>\n",
       "    <tr>\n",
       "      <th>2</th>\n",
       "      <td>SILTY LOAM</td>\n",
       "      <td>5.9</td>\n",
       "      <td>0.16</td>\n",
       "      <td>23.1</td>\n",
       "      <td>0.39</td>\n",
       "      <td>2.1</td>\n",
       "      <td>1.6</td>\n",
       "      <td>2.5</td>\n",
       "      <td>1.2</td>\n",
       "      <td>10.1</td>\n",
       "      <td>6.4</td>\n",
       "      <td>MODERATELY HEALTHY</td>\n",
       "      <td>BANANA</td>\n",
       "      <td>ALVS</td>\n",
       "      <td>NPK</td>\n",
       "      <td>NPK</td>\n",
       "    </tr>\n",
       "    <tr>\n",
       "      <th>3</th>\n",
       "      <td>LOAMY SOIL</td>\n",
       "      <td>5.7</td>\n",
       "      <td>0.20</td>\n",
       "      <td>29.2</td>\n",
       "      <td>0.47</td>\n",
       "      <td>2.1</td>\n",
       "      <td>2.8</td>\n",
       "      <td>2.2</td>\n",
       "      <td>1.2</td>\n",
       "      <td>12.0</td>\n",
       "      <td>7.4</td>\n",
       "      <td>MODERATELY HEALTHY</td>\n",
       "      <td>BANANA</td>\n",
       "      <td>ALVS</td>\n",
       "      <td>NPK</td>\n",
       "      <td>NPK</td>\n",
       "    </tr>\n",
       "    <tr>\n",
       "      <th>4</th>\n",
       "      <td>LOAM</td>\n",
       "      <td>5.7</td>\n",
       "      <td>0.14</td>\n",
       "      <td>28.3</td>\n",
       "      <td>0.28</td>\n",
       "      <td>2.2</td>\n",
       "      <td>3.2</td>\n",
       "      <td>1.4</td>\n",
       "      <td>1.2</td>\n",
       "      <td>12.3</td>\n",
       "      <td>7.0</td>\n",
       "      <td>MODERATELY HEALTHY</td>\n",
       "      <td>BANANA</td>\n",
       "      <td>ALVS</td>\n",
       "      <td>NPK</td>\n",
       "      <td>NPK</td>\n",
       "    </tr>\n",
       "    <tr>\n",
       "      <th>5</th>\n",
       "      <td>SILTY SAND</td>\n",
       "      <td>5.7</td>\n",
       "      <td>0.17</td>\n",
       "      <td>29.2</td>\n",
       "      <td>0.72</td>\n",
       "      <td>2.0</td>\n",
       "      <td>2.4</td>\n",
       "      <td>1.9</td>\n",
       "      <td>1.2</td>\n",
       "      <td>11.2</td>\n",
       "      <td>10.3</td>\n",
       "      <td>MODERATELY HEALTHY</td>\n",
       "      <td>SOYBEAN</td>\n",
       "      <td>SESAME</td>\n",
       "      <td>NPK</td>\n",
       "      <td>NPK</td>\n",
       "    </tr>\n",
       "    <tr>\n",
       "      <th>6</th>\n",
       "      <td>SILT</td>\n",
       "      <td>5.9</td>\n",
       "      <td>0.18</td>\n",
       "      <td>27.2</td>\n",
       "      <td>0.18</td>\n",
       "      <td>1.9</td>\n",
       "      <td>2.7</td>\n",
       "      <td>2.0</td>\n",
       "      <td>1.4</td>\n",
       "      <td>13.1</td>\n",
       "      <td>5.9</td>\n",
       "      <td>MODERATELY HEALTHY</td>\n",
       "      <td>BEANS</td>\n",
       "      <td>MAIZE</td>\n",
       "      <td>NPK</td>\n",
       "      <td>TSP</td>\n",
       "    </tr>\n",
       "    <tr>\n",
       "      <th>7</th>\n",
       "      <td>LOAM</td>\n",
       "      <td>5.7</td>\n",
       "      <td>0.16</td>\n",
       "      <td>22.9</td>\n",
       "      <td>1.22</td>\n",
       "      <td>1.2</td>\n",
       "      <td>2.2</td>\n",
       "      <td>1.5</td>\n",
       "      <td>1.7</td>\n",
       "      <td>12.4</td>\n",
       "      <td>9.4</td>\n",
       "      <td>MODERATELY HEALTHY</td>\n",
       "      <td>BANANA</td>\n",
       "      <td>ALVS</td>\n",
       "      <td>NPK</td>\n",
       "      <td>NPK</td>\n",
       "    </tr>\n",
       "    <tr>\n",
       "      <th>8</th>\n",
       "      <td>LOAMY SILT</td>\n",
       "      <td>5.6</td>\n",
       "      <td>0.15</td>\n",
       "      <td>19.4</td>\n",
       "      <td>0.72</td>\n",
       "      <td>1.3</td>\n",
       "      <td>1.9</td>\n",
       "      <td>2.2</td>\n",
       "      <td>1.2</td>\n",
       "      <td>12.6</td>\n",
       "      <td>8.7</td>\n",
       "      <td>POOR</td>\n",
       "      <td>BANANA</td>\n",
       "      <td>ALVS</td>\n",
       "      <td>NPK</td>\n",
       "      <td>NPK</td>\n",
       "    </tr>\n",
       "    <tr>\n",
       "      <th>9</th>\n",
       "      <td>LOAM</td>\n",
       "      <td>5.4</td>\n",
       "      <td>0.14</td>\n",
       "      <td>23.2</td>\n",
       "      <td>1.21</td>\n",
       "      <td>1.4</td>\n",
       "      <td>1.1</td>\n",
       "      <td>2.1</td>\n",
       "      <td>1.1</td>\n",
       "      <td>12.9</td>\n",
       "      <td>6.8</td>\n",
       "      <td>POOR</td>\n",
       "      <td>MAIZE</td>\n",
       "      <td>BEANS</td>\n",
       "      <td>NPK</td>\n",
       "      <td>TSP</td>\n",
       "    </tr>\n",
       "  </tbody>\n",
       "</table>\n",
       "</div>"
      ],
      "text/plain": [
       "  simpliedtexture(1)   ph  ...  fertilizerrecommendation1  fertilizerrecommendation2\n",
       "0         SILTY SOIL  4.9  ...                        NPK                        NPK\n",
       "1         LOAMY SOIL  5.7  ...                        NPK                        NPK\n",
       "2         SILTY LOAM  5.9  ...                        NPK                        NPK\n",
       "3         LOAMY SOIL  5.7  ...                        NPK                        NPK\n",
       "4               LOAM  5.7  ...                        NPK                        NPK\n",
       "5         SILTY SAND  5.7  ...                        NPK                        NPK\n",
       "6               SILT  5.9  ...                        NPK                        TSP\n",
       "7               LOAM  5.7  ...                        NPK                        NPK\n",
       "8         LOAMY SILT  5.6  ...                        NPK                        NPK\n",
       "9               LOAM  5.4  ...                        NPK                        TSP\n",
       "\n",
       "[10 rows x 16 columns]"
      ]
     },
     "execution_count": 4,
     "metadata": {},
     "output_type": "execute_result"
    }
   ],
   "source": [
    "# Load the preprocessed dataset \n",
    "\n",
    "df = pd.read_csv(\"data/data_for_fertilizer_classification.csv\")\n",
    "\n",
    "# Preview the first 10 rows of the data\n",
    "df.head(10)"
   ]
  },
  {
   "cell_type": "code",
   "execution_count": 5,
   "metadata": {},
   "outputs": [
    {
     "name": "stdout",
     "output_type": "stream",
     "text": [
      "<class 'pandas.core.frame.DataFrame'>\n",
      "RangeIndex: 1000 entries, 0 to 999\n",
      "Data columns (total 16 columns):\n",
      " #   Column                     Non-Null Count  Dtype  \n",
      "---  ------                     --------------  -----  \n",
      " 0   simpliedtexture(1)         1000 non-null   object \n",
      " 1   ph                         1000 non-null   float64\n",
      " 2   n                          1000 non-null   float64\n",
      " 3   p                          1000 non-null   float64\n",
      " 4   k                          1000 non-null   float64\n",
      " 5   o                          1000 non-null   float64\n",
      " 6   ca                         1000 non-null   float64\n",
      " 7   mg                         1000 non-null   float64\n",
      " 8   cu                         1000 non-null   float64\n",
      " 9   fe                         1000 non-null   float64\n",
      " 10  zn                         1000 non-null   float64\n",
      " 11  soilfertilitystatus        1000 non-null   object \n",
      " 12  croprecommendation1        1000 non-null   object \n",
      " 13  croprecommendation2        1000 non-null   object \n",
      " 14  fertilizerrecommendation1  1000 non-null   object \n",
      " 15  fertilizerrecommendation2  1000 non-null   object \n",
      "dtypes: float64(10), object(6)\n",
      "memory usage: 125.1+ KB\n"
     ]
    }
   ],
   "source": [
    "df.info()"
   ]
  },
  {
   "cell_type": "code",
   "execution_count": 6,
   "metadata": {},
   "outputs": [
    {
     "data": {
      "text/plain": [
       "fertilizerrecommendation2\n",
       "NPK    820\n",
       "TSP    180\n",
       "Name: count, dtype: int64"
      ]
     },
     "execution_count": 6,
     "metadata": {},
     "output_type": "execute_result"
    }
   ],
   "source": [
    "df['fertilizerrecommendation2'].value_counts()"
   ]
  },
  {
   "cell_type": "markdown",
   "metadata": {},
   "source": [
    "Checking at the distribution of the fertiliser there is need for us to balance the class will use SMOTE for that"
   ]
  },
  {
   "cell_type": "code",
   "execution_count": 7,
   "metadata": {},
   "outputs": [
    {
     "data": {
      "text/plain": [
       "Index(['simpliedtexture(1)', 'ph', 'n', 'p', 'k', 'o', 'ca', 'mg', 'cu', 'fe',\n",
       "       'zn', 'soilfertilitystatus', 'fertilizerrecommendation2'],\n",
       "      dtype='object')"
      ]
     },
     "execution_count": 7,
     "metadata": {},
     "output_type": "execute_result"
    }
   ],
   "source": [
    "df = df.drop(columns=['croprecommendation1', 'croprecommendation2', 'fertilizerrecommendation1'])\n",
    "df.columns"
   ]
  },
  {
   "cell_type": "code",
   "execution_count": 8,
   "metadata": {},
   "outputs": [
    {
     "name": "stderr",
     "output_type": "stream",
     "text": [
      "2025-05-28 21:46:43,087 - SoilDataPreprocessor - INFO - SoilDataPreprocessor initialized\n",
      "2025-05-28 21:46:43,089 - SoilDataPreprocessor - INFO - ============================================================\n",
      "2025-05-28 21:46:43,091 - SoilDataPreprocessor - INFO - Starting fit_transform process\n",
      "2025-05-28 21:46:43,091 - SoilDataPreprocessor - INFO - Parameters - encoding: label, scaling: standard, SMOTE: True\n",
      "2025-05-28 21:46:43,093 - SoilDataPreprocessor - INFO - Input DataFrame shape: (1000, 13)\n",
      "2025-05-28 21:46:43,094 - SoilDataPreprocessor - INFO - Target column: fertilizerrecommendation2\n",
      "2025-05-28 21:46:43,095 - SoilDataPreprocessor - INFO - Target column data type: object\n",
      "2025-05-28 21:46:43,098 - SoilDataPreprocessor - INFO - Target classes: ['NPK' 'TSP']\n",
      "2025-05-28 21:46:43,099 - SoilDataPreprocessor - INFO - ----------------------------------------\n",
      "2025-05-28 21:46:43,099 - SoilDataPreprocessor - INFO - STEP 1: Categorical Encoding\n",
      "2025-05-28 21:46:43,100 - SoilDataPreprocessor - INFO - Starting categorical encoding with type: label\n",
      "2025-05-28 21:46:43,101 - SoilDataPreprocessor - INFO - Found 3 categorical columns: ['simpliedtexture(1)', 'soilfertilitystatus', 'fertilizerrecommendation2']\n",
      "2025-05-28 21:46:43,104 - SoilDataPreprocessor - INFO - Fitted LabelEncoder for simpliedtexture(1), classes: 20\n",
      "2025-05-28 21:46:43,106 - SoilDataPreprocessor - INFO - Fitted LabelEncoder for soilfertilitystatus, classes: 3\n",
      "2025-05-28 21:46:43,108 - SoilDataPreprocessor - INFO - Fitted LabelEncoder for fertilizerrecommendation2, classes: 2\n",
      "2025-05-28 21:46:43,109 - SoilDataPreprocessor - INFO - Categorical encoding completed. Output shape: (1000, 13)\n",
      "2025-05-28 21:46:43,110 - SoilDataPreprocessor - INFO - ----------------------------------------\n",
      "2025-05-28 21:46:43,110 - SoilDataPreprocessor - INFO - STEP 2: Numerical Scaling\n",
      "2025-05-28 21:46:43,111 - SoilDataPreprocessor - INFO - Starting numerical scaling with type: standard\n",
      "2025-05-28 21:46:43,112 - SoilDataPreprocessor - INFO - Found 10 numerical columns: ['ph', 'n', 'p', 'k', 'o', 'ca', 'mg', 'cu', 'fe', 'zn']\n",
      "2025-05-28 21:46:43,113 - SoilDataPreprocessor - INFO - Columns to scale: ['ph', 'n', 'p', 'k', 'o', 'ca', 'mg', 'cu', 'fe', 'zn']\n",
      "2025-05-28 21:46:43,114 - SoilDataPreprocessor - INFO - Fitting scaler (training mode)\n",
      "2025-05-28 21:46:43,127 - SoilDataPreprocessor - INFO - Scaler fitted and applied to 10 columns\n",
      "2025-05-28 21:46:43,129 - SoilDataPreprocessor - INFO - Numerical scaling completed. Output shape: (1000, 13)\n",
      "2025-05-28 21:46:43,130 - SoilDataPreprocessor - INFO - Preprocessor marked as fitted\n",
      "2025-05-28 21:46:43,131 - SoilDataPreprocessor - INFO - ----------------------------------------\n",
      "2025-05-28 21:46:43,131 - SoilDataPreprocessor - INFO - STEP 3: SMOTE Balancing\n",
      "2025-05-28 21:46:43,132 - SoilDataPreprocessor - INFO - Starting SMOTE balancing for target column: fertilizerrecommendation2\n",
      "2025-05-28 21:46:43,138 - SoilDataPreprocessor - INFO - Class distribution before SMOTE:\n",
      "2025-05-28 21:46:43,139 - SoilDataPreprocessor - INFO -   Class 0: 820 samples (82.00%)\n",
      "2025-05-28 21:46:43,140 - SoilDataPreprocessor - INFO -   Class 1: 180 samples (18.00%)\n",
      "2025-05-28 21:46:43,161 - SoilDataPreprocessor - INFO - Class distribution after SMOTE:\n",
      "2025-05-28 21:46:43,164 - SoilDataPreprocessor - INFO -   Class 0: 820 samples (50.00%)\n",
      "2025-05-28 21:46:43,165 - SoilDataPreprocessor - INFO -   Class 1: 820 samples (50.00%)\n",
      "2025-05-28 21:46:43,165 - SoilDataPreprocessor - INFO - SMOTE increased dataset from 1000 to 1640 samples\n",
      "2025-05-28 21:46:43,170 - SoilDataPreprocessor - INFO - SMOTE balancing completed successfully\n",
      "2025-05-28 21:46:43,174 - SoilDataPreprocessor - INFO - Final DataFrame shape after SMOTE: (1640, 13)\n",
      "2025-05-28 21:46:43,175 - SoilDataPreprocessor - INFO - ============================================================\n",
      "2025-05-28 21:46:43,176 - SoilDataPreprocessor - INFO - fit_transform completed successfully. Final shape: (1640, 13)\n"
     ]
    }
   ],
   "source": [
    "preprocessor = SoilDataPreprocessor()\n",
    "\n",
    "train_data_processed = preprocessor.fit_transform(\n",
    "    df, \n",
    "    target_column='fertilizerrecommendation2',\n",
    "    encoding_type='label',\n",
    "    scaling_type='standard',\n",
    "    apply_smote=True\n",
    ")"
   ]
  },
  {
   "cell_type": "code",
   "execution_count": 9,
   "metadata": {},
   "outputs": [
    {
     "name": "stderr",
     "output_type": "stream",
     "text": [
      "2025-05-28 21:47:20,271 - SoilDataPreprocessor - INFO - Saving preprocessor to: models/soil_fertilizer_recommendation_preprocessor.joblib\n",
      "2025-05-28 21:47:20,280 - SoilDataPreprocessor - INFO - Preprocessor saved successfully\n"
     ]
    }
   ],
   "source": [
    "# Save the fitted preprocessor\n",
    "preprocessor.save('models/soil_fertilizer_recommendation_preprocessor.joblib')"
   ]
  },
  {
   "cell_type": "code",
   "execution_count": 7,
   "metadata": {},
   "outputs": [],
   "source": [
    "X_balanced, y_balanced = balance_with_smote(df = df, target_column = \"fertilizerrecommendation2\")"
   ]
  },
  {
   "cell_type": "code",
   "execution_count": 11,
   "metadata": {},
   "outputs": [
    {
     "data": {
      "text/html": [
       "<div>\n",
       "<style scoped>\n",
       "    .dataframe tbody tr th:only-of-type {\n",
       "        vertical-align: middle;\n",
       "    }\n",
       "\n",
       "    .dataframe tbody tr th {\n",
       "        vertical-align: top;\n",
       "    }\n",
       "\n",
       "    .dataframe thead th {\n",
       "        text-align: right;\n",
       "    }\n",
       "</style>\n",
       "<table border=\"1\" class=\"dataframe\">\n",
       "  <thead>\n",
       "    <tr style=\"text-align: right;\">\n",
       "      <th></th>\n",
       "      <th>simpliedtexture(1)</th>\n",
       "      <th>ph</th>\n",
       "      <th>n</th>\n",
       "      <th>p</th>\n",
       "      <th>k</th>\n",
       "      <th>o</th>\n",
       "      <th>ca</th>\n",
       "      <th>mg</th>\n",
       "      <th>cu</th>\n",
       "      <th>fe</th>\n",
       "      <th>zn</th>\n",
       "      <th>soilfertilitystatus</th>\n",
       "      <th>fertilizerrecommendation2</th>\n",
       "    </tr>\n",
       "  </thead>\n",
       "  <tbody>\n",
       "    <tr>\n",
       "      <th>1117</th>\n",
       "      <td>8</td>\n",
       "      <td>0.921205</td>\n",
       "      <td>-0.021353</td>\n",
       "      <td>0.653102</td>\n",
       "      <td>0.793086</td>\n",
       "      <td>-0.186161</td>\n",
       "      <td>-0.160296</td>\n",
       "      <td>-1.128324</td>\n",
       "      <td>-0.999140</td>\n",
       "      <td>-0.761538</td>\n",
       "      <td>0.159508</td>\n",
       "      <td>0</td>\n",
       "      <td>1</td>\n",
       "    </tr>\n",
       "    <tr>\n",
       "      <th>385</th>\n",
       "      <td>9</td>\n",
       "      <td>0.579142</td>\n",
       "      <td>-0.021295</td>\n",
       "      <td>1.323028</td>\n",
       "      <td>0.443141</td>\n",
       "      <td>-0.184988</td>\n",
       "      <td>-0.410781</td>\n",
       "      <td>0.816037</td>\n",
       "      <td>0.543536</td>\n",
       "      <td>0.488769</td>\n",
       "      <td>0.807409</td>\n",
       "      <td>0</td>\n",
       "      <td>0</td>\n",
       "    </tr>\n",
       "    <tr>\n",
       "      <th>1056</th>\n",
       "      <td>8</td>\n",
       "      <td>0.825717</td>\n",
       "      <td>-0.012204</td>\n",
       "      <td>-0.572091</td>\n",
       "      <td>0.066009</td>\n",
       "      <td>1.298593</td>\n",
       "      <td>1.435148</td>\n",
       "      <td>-1.057388</td>\n",
       "      <td>0.660229</td>\n",
       "      <td>1.017799</td>\n",
       "      <td>1.903590</td>\n",
       "      <td>0</td>\n",
       "      <td>1</td>\n",
       "    </tr>\n",
       "    <tr>\n",
       "      <th>27</th>\n",
       "      <td>18</td>\n",
       "      <td>1.267573</td>\n",
       "      <td>0.061405</td>\n",
       "      <td>-0.425646</td>\n",
       "      <td>0.443141</td>\n",
       "      <td>0.799739</td>\n",
       "      <td>1.619741</td>\n",
       "      <td>-1.347370</td>\n",
       "      <td>0.543536</td>\n",
       "      <td>0.488769</td>\n",
       "      <td>-0.244818</td>\n",
       "      <td>0</td>\n",
       "      <td>0</td>\n",
       "    </tr>\n",
       "    <tr>\n",
       "      <th>530</th>\n",
       "      <td>19</td>\n",
       "      <td>1.267573</td>\n",
       "      <td>-0.021295</td>\n",
       "      <td>1.538618</td>\n",
       "      <td>0.443141</td>\n",
       "      <td>1.643790</td>\n",
       "      <td>2.358112</td>\n",
       "      <td>2.979444</td>\n",
       "      <td>-0.484915</td>\n",
       "      <td>0.375234</td>\n",
       "      <td>-0.420189</td>\n",
       "      <td>0</td>\n",
       "      <td>0</td>\n",
       "    </tr>\n",
       "    <tr>\n",
       "      <th>775</th>\n",
       "      <td>9</td>\n",
       "      <td>-0.109288</td>\n",
       "      <td>-0.007512</td>\n",
       "      <td>-0.904735</td>\n",
       "      <td>0.443141</td>\n",
       "      <td>-0.325663</td>\n",
       "      <td>-0.226188</td>\n",
       "      <td>1.032378</td>\n",
       "      <td>0.543536</td>\n",
       "      <td>0.488769</td>\n",
       "      <td>-0.712475</td>\n",
       "      <td>1</td>\n",
       "      <td>0</td>\n",
       "    </tr>\n",
       "    <tr>\n",
       "      <th>1585</th>\n",
       "      <td>8</td>\n",
       "      <td>0.694286</td>\n",
       "      <td>-0.036467</td>\n",
       "      <td>1.336472</td>\n",
       "      <td>0.443141</td>\n",
       "      <td>-0.325663</td>\n",
       "      <td>-0.886649</td>\n",
       "      <td>-1.131029</td>\n",
       "      <td>0.543536</td>\n",
       "      <td>1.014789</td>\n",
       "      <td>1.000441</td>\n",
       "      <td>0</td>\n",
       "      <td>1</td>\n",
       "    </tr>\n",
       "    <tr>\n",
       "      <th>1064</th>\n",
       "      <td>14</td>\n",
       "      <td>-0.286791</td>\n",
       "      <td>-0.035511</td>\n",
       "      <td>-0.415884</td>\n",
       "      <td>-0.751839</td>\n",
       "      <td>1.318341</td>\n",
       "      <td>0.290942</td>\n",
       "      <td>0.126324</td>\n",
       "      <td>2.021733</td>\n",
       "      <td>0.598745</td>\n",
       "      <td>0.759764</td>\n",
       "      <td>1</td>\n",
       "      <td>1</td>\n",
       "    </tr>\n",
       "    <tr>\n",
       "      <th>704</th>\n",
       "      <td>9</td>\n",
       "      <td>0.062819</td>\n",
       "      <td>-0.007512</td>\n",
       "      <td>-1.168234</td>\n",
       "      <td>0.443141</td>\n",
       "      <td>-0.888364</td>\n",
       "      <td>-0.595373</td>\n",
       "      <td>0.167015</td>\n",
       "      <td>0.543536</td>\n",
       "      <td>-0.646583</td>\n",
       "      <td>1.976551</td>\n",
       "      <td>0</td>\n",
       "      <td>1</td>\n",
       "    </tr>\n",
       "    <tr>\n",
       "      <th>1112</th>\n",
       "      <td>8</td>\n",
       "      <td>0.818513</td>\n",
       "      <td>-0.045852</td>\n",
       "      <td>-1.175530</td>\n",
       "      <td>0.443141</td>\n",
       "      <td>-0.270684</td>\n",
       "      <td>0.279495</td>\n",
       "      <td>0.101120</td>\n",
       "      <td>-0.283944</td>\n",
       "      <td>-0.300768</td>\n",
       "      <td>0.004133</td>\n",
       "      <td>0</td>\n",
       "      <td>1</td>\n",
       "    </tr>\n",
       "  </tbody>\n",
       "</table>\n",
       "</div>"
      ],
      "text/plain": [
       "      simpliedtexture(1)  ...  fertilizerrecommendation2\n",
       "1117                   8  ...                          1\n",
       "385                    9  ...                          0\n",
       "1056                   8  ...                          1\n",
       "27                    18  ...                          0\n",
       "530                   19  ...                          0\n",
       "775                    9  ...                          0\n",
       "1585                   8  ...                          1\n",
       "1064                  14  ...                          1\n",
       "704                    9  ...                          1\n",
       "1112                   8  ...                          1\n",
       "\n",
       "[10 rows x 13 columns]"
      ]
     },
     "execution_count": 11,
     "metadata": {},
     "output_type": "execute_result"
    }
   ],
   "source": [
    "train_data_processed.sample(10)"
   ]
  },
  {
   "cell_type": "code",
   "execution_count": 12,
   "metadata": {},
   "outputs": [
    {
     "name": "stdout",
     "output_type": "stream",
     "text": [
      "<class 'pandas.core.frame.DataFrame'>\n",
      "RangeIndex: 1640 entries, 0 to 1639\n",
      "Data columns (total 13 columns):\n",
      " #   Column                     Non-Null Count  Dtype  \n",
      "---  ------                     --------------  -----  \n",
      " 0   simpliedtexture(1)         1640 non-null   int64  \n",
      " 1   ph                         1640 non-null   float64\n",
      " 2   n                          1640 non-null   float64\n",
      " 3   p                          1640 non-null   float64\n",
      " 4   k                          1640 non-null   float64\n",
      " 5   o                          1640 non-null   float64\n",
      " 6   ca                         1640 non-null   float64\n",
      " 7   mg                         1640 non-null   float64\n",
      " 8   cu                         1640 non-null   float64\n",
      " 9   fe                         1640 non-null   float64\n",
      " 10  zn                         1640 non-null   float64\n",
      " 11  soilfertilitystatus        1640 non-null   int64  \n",
      " 12  fertilizerrecommendation2  1640 non-null   int64  \n",
      "dtypes: float64(10), int64(3)\n",
      "memory usage: 166.7 KB\n"
     ]
    }
   ],
   "source": [
    "train_data_processed.info()"
   ]
  },
  {
   "cell_type": "code",
   "execution_count": 13,
   "metadata": {},
   "outputs": [
    {
     "data": {
      "text/plain": [
       "fertilizerrecommendation2\n",
       "0    820\n",
       "1    820\n",
       "Name: count, dtype: int64"
      ]
     },
     "execution_count": 13,
     "metadata": {},
     "output_type": "execute_result"
    }
   ],
   "source": [
    "train_data_processed['fertilizerrecommendation2'].value_counts()"
   ]
  },
  {
   "cell_type": "markdown",
   "metadata": {},
   "source": [
    "Now we can see the dataset is balanced "
   ]
  },
  {
   "cell_type": "code",
   "execution_count": 14,
   "metadata": {},
   "outputs": [
    {
     "name": "stdout",
     "output_type": "stream",
     "text": [
      "X columns used: \n",
      " Index(['simpliedtexture(1)', 'ph', 'n', 'p', 'k', 'o', 'ca', 'mg', 'cu', 'fe',\n",
      "       'zn', 'soilfertilitystatus'],\n",
      "      dtype='object')\n",
      "\n",
      "y target columns: fertilizerrecommendation2\n"
     ]
    }
   ],
   "source": [
    "from sklearn.model_selection import train_test_split\n",
    "\n",
    "X = train_data_processed.drop(columns=['fertilizerrecommendation2'])\n",
    "y = train_data_processed['fertilizerrecommendation2']\n",
    "\n",
    "print(f\"X columns used: \\n\", X.columns)\n",
    "print(f\"\\ny target columns:\", y.name)\n",
    "\n",
    "# splitting the dataset into train , test and validation\n",
    "X_train, X_test, y_train, y_test = train_test_split(X, y, test_size=0.25, random_state=43)"
   ]
  },
  {
   "cell_type": "markdown",
   "metadata": {},
   "source": [
    "#### 1. Baseline Model"
   ]
  },
  {
   "cell_type": "code",
   "execution_count": 15,
   "metadata": {},
   "outputs": [],
   "source": [
    "# Model libraries\n",
    "from sklearn.linear_model import LogisticRegression\n",
    "from sklearn.multiclass import OneVsRestClassifier\n",
    "from sklearn.svm import LinearSVC\n",
    "from sklearn.tree import DecisionTreeClassifier\n",
    "from sklearn.ensemble import RandomForestClassifier\n",
    "from sklearn.ensemble import GradientBoostingClassifier\n",
    "\n",
    "# model metrics libraries\n",
    "\n",
    "from sklearn.metrics import accuracy_score, precision_score, recall_score, f1_score, roc_auc_score, confusion_matrix, classification_report"
   ]
  },
  {
   "cell_type": "code",
   "execution_count": 16,
   "metadata": {},
   "outputs": [],
   "source": [
    "# Logistic regression model\n",
    "log_reg = LogisticRegression(random_state=42)\n",
    "\n",
    "# Fit the dataset\n",
    "log_reg.fit(X_train, y_train)\n",
    "\n",
    "# predict on the Test set\n",
    "y_pred_log_reg = log_reg.predict(X_test)"
   ]
  },
  {
   "cell_type": "code",
   "execution_count": 17,
   "metadata": {},
   "outputs": [
    {
     "name": "stdout",
     "output_type": "stream",
     "text": [
      "Logistic Regression:\n",
      "Accuracy: 0.7732\n",
      "Precision: 0.7990\n",
      "Recall: 0.7760\n",
      "F1 Score: 0.7693\n"
     ]
    }
   ],
   "source": [
    "# Model Evaluation for Logistic Regression\n",
    "print(\"Logistic Regression:\")\n",
    "\n",
    "# Accuracy is the ratio of correctly predicted observation to the total observations.\n",
    "print(f\"Accuracy: {accuracy_score(y_test, y_pred_log_reg):.4f}\")\n",
    "\n",
    "# Precision is the ratio of correctly predicted positive observations to the total predicted positives.\n",
    "print(f\"Precision: {precision_score(y_test, y_pred_log_reg, average='macro'):.4f}\")\n",
    "\n",
    "# Recall (Sensitivity) is the ratio of correctly predicted positive observations to the all observations in actual class.\n",
    "print(f\"Recall: {recall_score(y_test, y_pred_log_reg, average='macro'):.4f}\")\n",
    "\n",
    "# F1 Score is the weighted average of Precision and Recall. Therefore, this score takes both false positives and false negatives into account.\n",
    "print(f\"F1 Score: {f1_score(y_test, y_pred_log_reg, average='macro'):.4f}\")"
   ]
  },
  {
   "cell_type": "code",
   "execution_count": 18,
   "metadata": {},
   "outputs": [
    {
     "name": "stdout",
     "output_type": "stream",
     "text": [
      "Classification report:\n",
      "               precision    recall  f1-score   support\n",
      "\n",
      "           0       0.89      0.63      0.74       209\n",
      "           1       0.71      0.92      0.80       201\n",
      "\n",
      "    accuracy                           0.77       410\n",
      "   macro avg       0.80      0.78      0.77       410\n",
      "weighted avg       0.80      0.77      0.77       410\n",
      "\n"
     ]
    }
   ],
   "source": [
    "print(\"Classification report:\\n\", classification_report(y_test, y_pred_log_reg))"
   ]
  },
  {
   "cell_type": "code",
   "execution_count": 19,
   "metadata": {},
   "outputs": [
    {
     "data": {
      "image/png": "[encoded data removed]",
      "text/plain": [
       "<Figure size 640x480 with 2 Axes>"
      ]
     },
     "metadata": {},
     "output_type": "display_data"
    }
   ],
   "source": [
    "from sklearn.metrics import confusion_matrix, ConfusionMatrixDisplay\n",
    "\n",
    "cm = confusion_matrix(y_test, y_pred_log_reg, labels=log_reg.classes_)\n",
    "disp = ConfusionMatrixDisplay(confusion_matrix=cm, display_labels=log_reg.classes_)\n",
    "disp.plot(cmap='Greens')\n",
    "plt.xticks(rotation=90)\n",
    "\n",
    "# Saving the plot\n",
    "plot_path = 'eda_charts/models_evals/fertilize_log_reg_confusion_matrix.png'\n",
    "plt.savefig(plot_path)"
   ]
  },
  {
   "cell_type": "markdown",
   "metadata": {},
   "source": [
    "#### 2. Decison Tree Model"
   ]
  },
  {
   "cell_type": "code",
   "execution_count": 20,
   "metadata": {},
   "outputs": [],
   "source": [
    "# decision trees\n",
    "from sklearn.tree import DecisionTreeClassifier\n",
    "\n",
    "# Initialize the Decision Tree Classifier\n",
    "dtree = DecisionTreeClassifier(random_state=42)\n",
    "\n",
    "# Fit the model on the training data\n",
    "dtree.fit(X_train, y_train)\n",
    "\n",
    "# Predict on the test set\n",
    "y_pred_tree = dtree.predict(X_test)"
   ]
  },
  {
   "cell_type": "code",
   "execution_count": 21,
   "metadata": {},
   "outputs": [
    {
     "name": "stdout",
     "output_type": "stream",
     "text": [
      "Decision tree classifier:\n",
      "Accuracy: 0.8122\n",
      "Precision: 0.8122\n",
      "Recall: 0.8120\n",
      "F1 Score: 0.8121\n"
     ]
    }
   ],
   "source": [
    "print(\"Decision tree classifier:\")\n",
    "\n",
    "# Accuracy is the proportion of true results (both true positives and true negatives) among the total number of cases examined.\n",
    "print(f\"Accuracy: {accuracy_score(y_test, y_pred_tree):.4f}\")\n",
    "\n",
    "# Precision is the ratio of correctly predicted positive observations to the total predicted positives.\n",
    "print(f\"Precision: {precision_score(y_test, y_pred_tree, average='macro'):.4f}\")\n",
    "\n",
    "# Recall (Sensitivity) is the ratio of correctly predicted positive observations to the all observations in actual class.\n",
    "print(f\"Recall: {recall_score(y_test, y_pred_tree, average='macro'):.4f}\")\n",
    "\n",
    "# F1 Score is the weighted average of Precision and Recall.\n",
    "print(f\"F1 Score: {f1_score(y_test, y_pred_tree, average='macro'):.4f}\")"
   ]
  },
  {
   "cell_type": "code",
   "execution_count": 22,
   "metadata": {},
   "outputs": [
    {
     "name": "stdout",
     "output_type": "stream",
     "text": [
      "Classification report:\n",
      "               precision    recall  f1-score   support\n",
      "\n",
      "           0       0.81      0.82      0.82       209\n",
      "           1       0.81      0.80      0.81       201\n",
      "\n",
      "    accuracy                           0.81       410\n",
      "   macro avg       0.81      0.81      0.81       410\n",
      "weighted avg       0.81      0.81      0.81       410\n",
      "\n"
     ]
    }
   ],
   "source": [
    "print(\"Classification report:\\n\", classification_report(y_test, y_pred_tree))"
   ]
  },
  {
   "cell_type": "code",
   "execution_count": 23,
   "metadata": {},
   "outputs": [
    {
     "data": {
      "image/png": "[encoded data removed]",
      "text/plain": [
       "<Figure size 640x480 with 2 Axes>"
      ]
     },
     "metadata": {},
     "output_type": "display_data"
    }
   ],
   "source": [
    "from sklearn.metrics import confusion_matrix, ConfusionMatrixDisplay\n",
    "\n",
    "cm = confusion_matrix(y_test, y_pred_tree, labels=dtree.classes_)\n",
    "disp = ConfusionMatrixDisplay(confusion_matrix=cm, display_labels=dtree.classes_)\n",
    "disp.plot(cmap='Greens')\n",
    "plt.xticks(rotation=90)\n",
    "\n",
    "# Saving the plot\n",
    "plot_path = 'eda_charts/models_evals/fertiliser_decision_tree_confusion_matrix.png'\n",
    "plt.savefig(plot_path)\n",
    "\n",
    "plt.show()"
   ]
  },
  {
   "cell_type": "code",
   "execution_count": 24,
   "metadata": {},
   "outputs": [
    {
     "name": "stdout",
     "output_type": "stream",
     "text": [
      "Decision Tree Classifier models saved to: models/Fertiliser_decisionTree_Classifier_model\n"
     ]
    }
   ],
   "source": [
    "# Save the model to a file\n",
    "joblib.dump(dtree, 'models/Fertilizer_decisionTree_Classifier_model.joblib')\n",
    "\n",
    "print(\"Decision Tree Classifier models saved to: models/Fertiliser_decisionTree_Classifier_model\")"
   ]
  },
  {
   "cell_type": "markdown",
   "metadata": {},
   "source": [
    "#### 3. Random Forest"
   ]
  },
  {
   "cell_type": "code",
   "execution_count": 25,
   "metadata": {},
   "outputs": [],
   "source": [
    "# Random forest classifier\n",
    "\n",
    "# Initialize the Random Forest Classifier\n",
    "rf = RandomForestClassifier(random_state=142)\n",
    "\n",
    "# Fit the model\n",
    "rf.fit(X_train, y_train)\n",
    "\n",
    "# Make predictions on test set\n",
    "y_pred_rf = rf.predict(X_test)"
   ]
  },
  {
   "cell_type": "code",
   "execution_count": 26,
   "metadata": {},
   "outputs": [
    {
     "name": "stdout",
     "output_type": "stream",
     "text": [
      "\n",
      "Random Forest:\n",
      "Accuracy: 0.875609756097561\n",
      "Precision: 0.8768\n",
      "Recall: 0.8762\n",
      "F1 Score: 0.8756\n"
     ]
    }
   ],
   "source": [
    "# Model Evaluation for Random Forest\n",
    "print(\"\\nRandom Forest:\")\n",
    "\n",
    "# Accuracy is the proportion of true results (both true positives and true negatives) among the total number of cases examined.\n",
    "print(f\"Accuracy: {accuracy_score(y_test, y_pred_rf)}\")\n",
    "\n",
    "# Precision is the ratio of correctly predicted positive observations to the total predicted positives.\n",
    "print(f\"Precision: {precision_score(y_test, y_pred_rf, average='macro'):.4f}\")\n",
    "\n",
    "# Recall (Sensitivity) is the ratio of correctly predicted positive observations to the all observations in actual class.\n",
    "print(f\"Recall: {recall_score(y_test, y_pred_rf, average='macro'):.4f}\")\n",
    "\n",
    "# F1 Score is the weighted average of Precision and Recall. It tries to find the balance between precision and recall.\n",
    "print(f\"F1 Score: {f1_score(y_test, y_pred_rf, average='macro'):.4f}\")"
   ]
  },
  {
   "cell_type": "code",
   "execution_count": 27,
   "metadata": {},
   "outputs": [
    {
     "name": "stdout",
     "output_type": "stream",
     "text": [
      "Classification report:\n",
      "               precision    recall  f1-score   support\n",
      "\n",
      "           0       0.90      0.85      0.87       209\n",
      "           1       0.85      0.91      0.88       201\n",
      "\n",
      "    accuracy                           0.88       410\n",
      "   macro avg       0.88      0.88      0.88       410\n",
      "weighted avg       0.88      0.88      0.88       410\n",
      "\n"
     ]
    }
   ],
   "source": [
    "print(\"Classification report:\\n\", classification_report(y_test, y_pred_rf))"
   ]
  },
  {
   "cell_type": "code",
   "execution_count": 28,
   "metadata": {},
   "outputs": [
    {
     "data": {
      "image/png": "[encoded data removed]",
      "text/plain": [
       "<Figure size 640x480 with 2 Axes>"
      ]
     },
     "metadata": {},
     "output_type": "display_data"
    }
   ],
   "source": [
    "from sklearn.metrics import confusion_matrix, ConfusionMatrixDisplay\n",
    "\n",
    "cm = confusion_matrix(y_test, y_pred_rf, labels=rf.classes_)\n",
    "disp = ConfusionMatrixDisplay(confusion_matrix=cm, display_labels=rf.classes_)\n",
    "disp.plot(cmap='Greens')\n",
    "plt.xticks(rotation=90)\n",
    "\n",
    "# Saving the plot\n",
    "plot_path = 'eda_charts/models_evals/Fertiliser_random_forest_confusion_matrix.png'\n",
    "plt.savefig(plot_path)\n",
    "\n",
    "plt.show()"
   ]
  },
  {
   "cell_type": "code",
   "execution_count": 29,
   "metadata": {},
   "outputs": [
    {
     "name": "stdout",
     "output_type": "stream",
     "text": [
      "Random Forest Classifier saved to: models/Fertiliser_randomForest_Classifier\n"
     ]
    }
   ],
   "source": [
    "# Save the model to a file\n",
    "joblib.dump(rf, \"models/Fertilizer_randomForest_Classifier_Model.joblib\")\n",
    "\n",
    "print(\"Random Forest Classifier saved to: models/Fertiliser_randomForest_Classifier\")"
   ]
  },
  {
   "cell_type": "markdown",
   "metadata": {},
   "source": [
    "#### 4. Gradient Boosting Machine"
   ]
  },
  {
   "cell_type": "code",
   "execution_count": 30,
   "metadata": {},
   "outputs": [],
   "source": [
    "from xgboost import XGBClassifier"
   ]
  },
  {
   "cell_type": "code",
   "execution_count": 31,
   "metadata": {},
   "outputs": [],
   "source": [
    "# xg boost\n",
    "\n",
    "# initialise the model\n",
    "xgb = XGBClassifier(random_state=142)\n",
    "\n",
    "# Fit the model on training data\n",
    "xgb.fit(X_train, y_train)\n",
    "\n",
    "# predict the test set\n",
    "y_pred_xgb = xgb.predict(X_test)"
   ]
  },
  {
   "cell_type": "code",
   "execution_count": 32,
   "metadata": {},
   "outputs": [
    {
     "name": "stdout",
     "output_type": "stream",
     "text": [
      "\n",
      "Gradient Boosting Machine (XGBoost):\n",
      "Accuracy: 0.8756\n",
      "Precision: 0.8761\n",
      "Recall: 0.8760\n",
      "F1 Score: 0.8756\n"
     ]
    }
   ],
   "source": [
    "# Model Evaluation for XGBoost\n",
    "print(\"\\nGradient Boosting Machine (XGBoost):\")\n",
    "\n",
    "print(f\"Accuracy: {accuracy_score(y_test, y_pred_xgb):.4f}\")\n",
    "\n",
    "print(f\"Precision: {precision_score(y_test, y_pred_xgb, average='macro'):.4f}\")\n",
    "\n",
    "print(f\"Recall: {recall_score(y_test, y_pred_xgb, average='macro'):.4f}\")\n",
    "\n",
    "print(f\"F1 Score: {f1_score(y_test, y_pred_xgb, average='macro'):.4f}\")"
   ]
  },
  {
   "cell_type": "code",
   "execution_count": 33,
   "metadata": {},
   "outputs": [
    {
     "name": "stdout",
     "output_type": "stream",
     "text": [
      "Classification report:\n",
      "               precision    recall  f1-score   support\n",
      "\n",
      "           0       0.90      0.86      0.88       209\n",
      "           1       0.86      0.90      0.88       201\n",
      "\n",
      "    accuracy                           0.88       410\n",
      "   macro avg       0.88      0.88      0.88       410\n",
      "weighted avg       0.88      0.88      0.88       410\n",
      "\n"
     ]
    }
   ],
   "source": [
    "print(\"Classification report:\\n\", classification_report(y_test, y_pred_xgb))"
   ]
  },
  {
   "cell_type": "code",
   "execution_count": 34,
   "metadata": {},
   "outputs": [
    {
     "data": {
      "image/png": "[encoded data removed]",
      "text/plain": [
       "<Figure size 640x480 with 2 Axes>"
      ]
     },
     "metadata": {},
     "output_type": "display_data"
    }
   ],
   "source": [
    "from sklearn.metrics import confusion_matrix, ConfusionMatrixDisplay\n",
    "\n",
    "cm = confusion_matrix(y_test, y_pred_xgb, labels=xgb.classes_)\n",
    "disp = ConfusionMatrixDisplay(confusion_matrix=cm, display_labels=xgb.classes_)\n",
    "disp.plot(cmap='Greens')\n",
    "plt.xticks(rotation=90)\n",
    "\n",
    "# Saving the plot\n",
    "plot_path = 'eda_charts/models_evals/Fertiliser_xgboost_confusion_matrix.png'\n",
    "plt.savefig(plot_path)\n",
    "\n",
    "plt.show()"
   ]
  },
  {
   "cell_type": "code",
   "execution_count": 35,
   "metadata": {},
   "outputs": [
    {
     "name": "stdout",
     "output_type": "stream",
     "text": [
      "Gradient Boosting Classifier saved to: models/Fertiliser_xgboost_Classifier\n"
     ]
    }
   ],
   "source": [
    "# Save the model to a file\n",
    "joblib.dump(rf, \"models/Fertilizers_xgb_Classifier_Model.joblib\")\n",
    "\n",
    "print(\"Gradient Boosting Classifier saved to: models/Fertiliser_xgboost_Classifier\")"
   ]
  },
  {
   "cell_type": "code",
   "execution_count": null,
   "metadata": {},
   "outputs": [],
   "source": []
  }
 ],
 "metadata": {
  "language_info": {
   "name": "python"
  }
 },
 "nbformat": 4,
 "nbformat_minor": 2
}
