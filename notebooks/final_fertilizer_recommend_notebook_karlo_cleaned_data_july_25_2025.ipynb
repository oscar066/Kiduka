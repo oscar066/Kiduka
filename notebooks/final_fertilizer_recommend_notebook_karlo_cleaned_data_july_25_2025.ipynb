{
 "cells": [
  {
   "cell_type": "code",
   "execution_count": 1,
   "metadata": {},
   "outputs": [],
   "source": [
    "import os\n",
    "import sys\n",
    "from pathlib import Path\n",
    "\n",
    "# Importing necessary libraries\n",
    "import pandas as pd\n",
    "import numpy as np\n",
    "import matplotlib.pyplot as plt\n",
    "import seaborn as sns\n",
    "\n",
    "# Setting the style for seaborn\n",
    "sns.set(style=\"darkgrid\")\n",
    "\n",
    "# Show all columns and full column content without truncation\n",
    "pd.set_option('display.max_columns', None)\n",
    "pd.set_option('display.max_colwidth', None)\n",
    "pd.set_option('display.max_rows', None)"
   ]
  },
  {
   "cell_type": "code",
   "execution_count": 2,
   "metadata": {},
   "outputs": [],
   "source": [
    "# Get the project root directory\n",
    "project_root = str(Path().absolute().parent)\n",
    "if project_root not in sys.path:\n",
    "    sys.path.insert(0, project_root)"
   ]
  },
  {
   "cell_type": "code",
   "execution_count": 3,
   "metadata": {},
   "outputs": [
    {
     "data": {
      "text/html": [
       "<div>\n",
       "<style scoped>\n",
       "    .dataframe tbody tr th:only-of-type {\n",
       "        vertical-align: middle;\n",
       "    }\n",
       "\n",
       "    .dataframe tbody tr th {\n",
       "        vertical-align: top;\n",
       "    }\n",
       "\n",
       "    .dataframe thead th {\n",
       "        text-align: right;\n",
       "    }\n",
       "</style>\n",
       "<table border=\"1\" class=\"dataframe\">\n",
       "  <thead>\n",
       "    <tr style=\"text-align: right;\">\n",
       "      <th></th>\n",
       "      <th>County</th>\n",
       "      <th>Soil_pH</th>\n",
       "      <th>Total_N_percent</th>\n",
       "      <th>Total_OC_percent</th>\n",
       "      <th>Phosphorus_ppm</th>\n",
       "      <th>Potassium_me_percent</th>\n",
       "      <th>Calcium_me_percent</th>\n",
       "      <th>Magnesium_me_percent</th>\n",
       "      <th>Fertility_Status</th>\n",
       "      <th>Fertilizer_Recommendation</th>\n",
       "    </tr>\n",
       "  </thead>\n",
       "  <tbody>\n",
       "    <tr>\n",
       "      <th>0</th>\n",
       "      <td>Baringo</td>\n",
       "      <td>5.76</td>\n",
       "      <td>0.08</td>\n",
       "      <td>0.44</td>\n",
       "      <td>23.0</td>\n",
       "      <td>1.36</td>\n",
       "      <td>3.9</td>\n",
       "      <td>3.30</td>\n",
       "      <td>Poor Soil</td>\n",
       "      <td>Plant with 50 kg per acre of NPK and 20 tons of FYM/compost, top dress with CAN</td>\n",
       "    </tr>\n",
       "    <tr>\n",
       "      <th>1</th>\n",
       "      <td>Baringo</td>\n",
       "      <td>5.68</td>\n",
       "      <td>0.07</td>\n",
       "      <td>0.38</td>\n",
       "      <td>14.0</td>\n",
       "      <td>1.20</td>\n",
       "      <td>3.7</td>\n",
       "      <td>1.00</td>\n",
       "      <td>Poor Soil</td>\n",
       "      <td>Plant with 50 kg per acre of NPK and 20 tons of FYM/compost, top dress with CAN</td>\n",
       "    </tr>\n",
       "    <tr>\n",
       "      <th>2</th>\n",
       "      <td>Baringo</td>\n",
       "      <td>5.10</td>\n",
       "      <td>0.07</td>\n",
       "      <td>0.39</td>\n",
       "      <td>19.0</td>\n",
       "      <td>1.10</td>\n",
       "      <td>3.5</td>\n",
       "      <td>2.32</td>\n",
       "      <td>Poor Soil</td>\n",
       "      <td>Apply agricultural calcitic lime 14 days before planting. plant with 50 kg per acre of NPK and 20 tons of FYM/compost, top dress with CAN</td>\n",
       "    </tr>\n",
       "    <tr>\n",
       "      <th>3</th>\n",
       "      <td>Baringo</td>\n",
       "      <td>6.25</td>\n",
       "      <td>0.08</td>\n",
       "      <td>0.49</td>\n",
       "      <td>36.0</td>\n",
       "      <td>1.30</td>\n",
       "      <td>6.9</td>\n",
       "      <td>4.04</td>\n",
       "      <td>Moderately Healthy</td>\n",
       "      <td>Plant with 20 tons FYM/compost manure, top dress with 50 kg CAN per acre</td>\n",
       "    </tr>\n",
       "    <tr>\n",
       "      <th>4</th>\n",
       "      <td>Baringo</td>\n",
       "      <td>6.63</td>\n",
       "      <td>0.09</td>\n",
       "      <td>0.69</td>\n",
       "      <td>67.0</td>\n",
       "      <td>1.66</td>\n",
       "      <td>6.5</td>\n",
       "      <td>6.22</td>\n",
       "      <td>Moderately Healthy</td>\n",
       "      <td>Plant with 20 tons FYM/compost manure, top dress with 50 kg CAN per acre</td>\n",
       "    </tr>\n",
       "    <tr>\n",
       "      <th>5</th>\n",
       "      <td>Baringo</td>\n",
       "      <td>6.30</td>\n",
       "      <td>0.08</td>\n",
       "      <td>0.57</td>\n",
       "      <td>25.0</td>\n",
       "      <td>1.28</td>\n",
       "      <td>4.7</td>\n",
       "      <td>2.06</td>\n",
       "      <td>Poor Soil</td>\n",
       "      <td>Plant with 50 kg per acre of NPK and 20 tons of FYM/compost, top dress with CAN</td>\n",
       "    </tr>\n",
       "    <tr>\n",
       "      <th>6</th>\n",
       "      <td>Baringo</td>\n",
       "      <td>6.32</td>\n",
       "      <td>0.08</td>\n",
       "      <td>0.58</td>\n",
       "      <td>169.0</td>\n",
       "      <td>1.08</td>\n",
       "      <td>4.5</td>\n",
       "      <td>4.84</td>\n",
       "      <td>Moderately Healthy</td>\n",
       "      <td>Plant with 20 tons FYM/compost manure, top dress with 50 kg CAN per acre</td>\n",
       "    </tr>\n",
       "    <tr>\n",
       "      <th>7</th>\n",
       "      <td>Baringo</td>\n",
       "      <td>7.11</td>\n",
       "      <td>0.11</td>\n",
       "      <td>0.45</td>\n",
       "      <td>17.0</td>\n",
       "      <td>0.62</td>\n",
       "      <td>1.3</td>\n",
       "      <td>1.47</td>\n",
       "      <td>Poor Soil</td>\n",
       "      <td>Plant with 50 kg per acre of NPK and 20 tons of FYM/compost, top dress with CAN</td>\n",
       "    </tr>\n",
       "    <tr>\n",
       "      <th>8</th>\n",
       "      <td>Baringo</td>\n",
       "      <td>6.62</td>\n",
       "      <td>0.08</td>\n",
       "      <td>0.34</td>\n",
       "      <td>25.0</td>\n",
       "      <td>2.16</td>\n",
       "      <td>10.9</td>\n",
       "      <td>2.86</td>\n",
       "      <td>Poor Soil</td>\n",
       "      <td>Plant with 50 kg per acre of NPK and 20 tons of FYM/compost, top dress with CAN</td>\n",
       "    </tr>\n",
       "    <tr>\n",
       "      <th>9</th>\n",
       "      <td>Baringo</td>\n",
       "      <td>6.99</td>\n",
       "      <td>0.09</td>\n",
       "      <td>0.35</td>\n",
       "      <td>37.0</td>\n",
       "      <td>2.24</td>\n",
       "      <td>14.5</td>\n",
       "      <td>3.90</td>\n",
       "      <td>Moderately Healthy</td>\n",
       "      <td>Plant with 20 tons FYM/compost manure, top dress with 50 kg CAN per acre</td>\n",
       "    </tr>\n",
       "  </tbody>\n",
       "</table>\n",
       "</div>"
      ],
      "text/plain": [
       "    County  Soil_pH  Total_N_percent  Total_OC_percent  Phosphorus_ppm  \\\n",
       "0  Baringo     5.76             0.08              0.44            23.0   \n",
       "1  Baringo     5.68             0.07              0.38            14.0   \n",
       "2  Baringo     5.10             0.07              0.39            19.0   \n",
       "3  Baringo     6.25             0.08              0.49            36.0   \n",
       "4  Baringo     6.63             0.09              0.69            67.0   \n",
       "5  Baringo     6.30             0.08              0.57            25.0   \n",
       "6  Baringo     6.32             0.08              0.58           169.0   \n",
       "7  Baringo     7.11             0.11              0.45            17.0   \n",
       "8  Baringo     6.62             0.08              0.34            25.0   \n",
       "9  Baringo     6.99             0.09              0.35            37.0   \n",
       "\n",
       "   Potassium_me_percent  Calcium_me_percent  Magnesium_me_percent  \\\n",
       "0                  1.36                 3.9                  3.30   \n",
       "1                  1.20                 3.7                  1.00   \n",
       "2                  1.10                 3.5                  2.32   \n",
       "3                  1.30                 6.9                  4.04   \n",
       "4                  1.66                 6.5                  6.22   \n",
       "5                  1.28                 4.7                  2.06   \n",
       "6                  1.08                 4.5                  4.84   \n",
       "7                  0.62                 1.3                  1.47   \n",
       "8                  2.16                10.9                  2.86   \n",
       "9                  2.24                14.5                  3.90   \n",
       "\n",
       "     Fertility_Status  \\\n",
       "0           Poor Soil   \n",
       "1           Poor Soil   \n",
       "2           Poor Soil   \n",
       "3  Moderately Healthy   \n",
       "4  Moderately Healthy   \n",
       "5           Poor Soil   \n",
       "6  Moderately Healthy   \n",
       "7           Poor Soil   \n",
       "8           Poor Soil   \n",
       "9  Moderately Healthy   \n",
       "\n",
       "                                                                                                                   Fertilizer_Recommendation  \n",
       "0                                                            Plant with 50 kg per acre of NPK and 20 tons of FYM/compost, top dress with CAN  \n",
       "1                                                            Plant with 50 kg per acre of NPK and 20 tons of FYM/compost, top dress with CAN  \n",
       "2  Apply agricultural calcitic lime 14 days before planting. plant with 50 kg per acre of NPK and 20 tons of FYM/compost, top dress with CAN  \n",
       "3                                                                   Plant with 20 tons FYM/compost manure, top dress with 50 kg CAN per acre  \n",
       "4                                                                   Plant with 20 tons FYM/compost manure, top dress with 50 kg CAN per acre  \n",
       "5                                                            Plant with 50 kg per acre of NPK and 20 tons of FYM/compost, top dress with CAN  \n",
       "6                                                                   Plant with 20 tons FYM/compost manure, top dress with 50 kg CAN per acre  \n",
       "7                                                            Plant with 50 kg per acre of NPK and 20 tons of FYM/compost, top dress with CAN  \n",
       "8                                                            Plant with 50 kg per acre of NPK and 20 tons of FYM/compost, top dress with CAN  \n",
       "9                                                                   Plant with 20 tons FYM/compost manure, top dress with 50 kg CAN per acre  "
      ]
     },
     "execution_count": 3,
     "metadata": {},
     "output_type": "execute_result"
    }
   ],
   "source": [
    "data = pd.read_csv(\"/teamspace/studios/this_studio/Fertiliser_Modelling/data/cleaned_karlo_25_july_soil_data.csv\")\n",
    "data.head(10)"
   ]
  },
  {
   "cell_type": "code",
   "execution_count": 4,
   "metadata": {},
   "outputs": [
    {
     "data": {
      "text/html": [
       "<div>\n",
       "<style scoped>\n",
       "    .dataframe tbody tr th:only-of-type {\n",
       "        vertical-align: middle;\n",
       "    }\n",
       "\n",
       "    .dataframe tbody tr th {\n",
       "        vertical-align: top;\n",
       "    }\n",
       "\n",
       "    .dataframe thead th {\n",
       "        text-align: right;\n",
       "    }\n",
       "</style>\n",
       "<table border=\"1\" class=\"dataframe\">\n",
       "  <thead>\n",
       "    <tr style=\"text-align: right;\">\n",
       "      <th></th>\n",
       "      <th>County</th>\n",
       "      <th>Soil_pH</th>\n",
       "      <th>Total_N_percent</th>\n",
       "      <th>Total_OC_percent</th>\n",
       "      <th>Phosphorus_ppm</th>\n",
       "      <th>Potassium_me_percent</th>\n",
       "      <th>Calcium_me_percent</th>\n",
       "      <th>Magnesium_me_percent</th>\n",
       "      <th>Fertility_Status</th>\n",
       "      <th>Fertilizer_Recommendation</th>\n",
       "    </tr>\n",
       "  </thead>\n",
       "  <tbody>\n",
       "    <tr>\n",
       "      <th>14878</th>\n",
       "      <td>Kajiado</td>\n",
       "      <td>7.11</td>\n",
       "      <td>0.11</td>\n",
       "      <td>1.06</td>\n",
       "      <td>2.0</td>\n",
       "      <td>1.79</td>\n",
       "      <td>5.1</td>\n",
       "      <td>5.86</td>\n",
       "      <td>Poor Soil</td>\n",
       "      <td>Plant with 50 kg per acre of NPK and 20 tons of FYM/compost, top dress with CAN</td>\n",
       "    </tr>\n",
       "    <tr>\n",
       "      <th>29521</th>\n",
       "      <td>Kwale</td>\n",
       "      <td>5.56</td>\n",
       "      <td>0.09</td>\n",
       "      <td>0.65</td>\n",
       "      <td>10.0</td>\n",
       "      <td>0.20</td>\n",
       "      <td>3.0</td>\n",
       "      <td>1.89</td>\n",
       "      <td>Very Poor</td>\n",
       "      <td>Plant with 50 kg per acre of NPK and 20 tons of FYM/compost, top dress with CAN</td>\n",
       "    </tr>\n",
       "    <tr>\n",
       "      <th>55263</th>\n",
       "      <td>Nyeri</td>\n",
       "      <td>6.44</td>\n",
       "      <td>0.29</td>\n",
       "      <td>2.99</td>\n",
       "      <td>30.0</td>\n",
       "      <td>0.27</td>\n",
       "      <td>17.2</td>\n",
       "      <td>1.01</td>\n",
       "      <td>Moderately Healthy</td>\n",
       "      <td>Plant with 50 kg per acre of NPK and 20 tons of FYM/compost, top dress with CAN</td>\n",
       "    </tr>\n",
       "    <tr>\n",
       "      <th>60449</th>\n",
       "      <td>Tharaka-Nithi</td>\n",
       "      <td>4.94</td>\n",
       "      <td>0.12</td>\n",
       "      <td>0.84</td>\n",
       "      <td>15.0</td>\n",
       "      <td>0.30</td>\n",
       "      <td>4.8</td>\n",
       "      <td>2.89</td>\n",
       "      <td>Poor Soil</td>\n",
       "      <td>Apply agricultural calcitic lime 14 days before planting. plant with 50 kg per acre of NPK and 20 tons of FYM/compost, top dress with CAN</td>\n",
       "    </tr>\n",
       "    <tr>\n",
       "      <th>8266</th>\n",
       "      <td>Embu</td>\n",
       "      <td>6.07</td>\n",
       "      <td>0.18</td>\n",
       "      <td>2.00</td>\n",
       "      <td>15.0</td>\n",
       "      <td>0.86</td>\n",
       "      <td>5.1</td>\n",
       "      <td>4.43</td>\n",
       "      <td>Poor Soil</td>\n",
       "      <td>Plant with 50 kg per acre of NPK and 20 tons of FYM/compost, top dress with CAN</td>\n",
       "    </tr>\n",
       "    <tr>\n",
       "      <th>33162</th>\n",
       "      <td>Laikipia</td>\n",
       "      <td>6.06</td>\n",
       "      <td>0.23</td>\n",
       "      <td>2.61</td>\n",
       "      <td>90.0</td>\n",
       "      <td>2.44</td>\n",
       "      <td>36.7</td>\n",
       "      <td>4.64</td>\n",
       "      <td>Healthy</td>\n",
       "      <td>Plant with 20 tons FYM/compost manure, top dress with 50 kg CAN per acre</td>\n",
       "    </tr>\n",
       "    <tr>\n",
       "      <th>24518</th>\n",
       "      <td>Kirinyaga</td>\n",
       "      <td>5.76</td>\n",
       "      <td>0.12</td>\n",
       "      <td>1.13</td>\n",
       "      <td>80.0</td>\n",
       "      <td>0.90</td>\n",
       "      <td>1.7</td>\n",
       "      <td>4.55</td>\n",
       "      <td>Moderately Healthy</td>\n",
       "      <td>Plant with 20 tons FYM/compost manure, top dress with 50 kg CAN per acre</td>\n",
       "    </tr>\n",
       "    <tr>\n",
       "      <th>2383</th>\n",
       "      <td>Busia</td>\n",
       "      <td>6.49</td>\n",
       "      <td>0.14</td>\n",
       "      <td>1.29</td>\n",
       "      <td>57.0</td>\n",
       "      <td>2.03</td>\n",
       "      <td>14.9</td>\n",
       "      <td>4.75</td>\n",
       "      <td>Moderately Healthy</td>\n",
       "      <td>Plant with 20 tons FYM/compost manure, top dress with 50 kg CAN per acre</td>\n",
       "    </tr>\n",
       "    <tr>\n",
       "      <th>30392</th>\n",
       "      <td>Laikipia</td>\n",
       "      <td>5.70</td>\n",
       "      <td>0.17</td>\n",
       "      <td>1.82</td>\n",
       "      <td>30.0</td>\n",
       "      <td>0.82</td>\n",
       "      <td>8.4</td>\n",
       "      <td>3.65</td>\n",
       "      <td>Poor Soil</td>\n",
       "      <td>Plant with 50 kg per acre of NPK and 20 tons of FYM/compost, top dress with CAN</td>\n",
       "    </tr>\n",
       "    <tr>\n",
       "      <th>17470</th>\n",
       "      <td>Kiambu</td>\n",
       "      <td>4.56</td>\n",
       "      <td>0.15</td>\n",
       "      <td>1.48</td>\n",
       "      <td>25.0</td>\n",
       "      <td>0.76</td>\n",
       "      <td>3.0</td>\n",
       "      <td>2.44</td>\n",
       "      <td>Poor Soil</td>\n",
       "      <td>Apply agricultural calcitic lime 14 days before planting. plant with 50 kg per acre of NPK and 20 tons of FYM/compost, top dress with CAN</td>\n",
       "    </tr>\n",
       "  </tbody>\n",
       "</table>\n",
       "</div>"
      ],
      "text/plain": [
       "              County  Soil_pH  Total_N_percent  Total_OC_percent  \\\n",
       "14878        Kajiado     7.11             0.11              1.06   \n",
       "29521          Kwale     5.56             0.09              0.65   \n",
       "55263          Nyeri     6.44             0.29              2.99   \n",
       "60449  Tharaka-Nithi     4.94             0.12              0.84   \n",
       "8266            Embu     6.07             0.18              2.00   \n",
       "33162       Laikipia     6.06             0.23              2.61   \n",
       "24518      Kirinyaga     5.76             0.12              1.13   \n",
       "2383           Busia     6.49             0.14              1.29   \n",
       "30392       Laikipia     5.70             0.17              1.82   \n",
       "17470         Kiambu     4.56             0.15              1.48   \n",
       "\n",
       "       Phosphorus_ppm  Potassium_me_percent  Calcium_me_percent  \\\n",
       "14878             2.0                  1.79                 5.1   \n",
       "29521            10.0                  0.20                 3.0   \n",
       "55263            30.0                  0.27                17.2   \n",
       "60449            15.0                  0.30                 4.8   \n",
       "8266             15.0                  0.86                 5.1   \n",
       "33162            90.0                  2.44                36.7   \n",
       "24518            80.0                  0.90                 1.7   \n",
       "2383             57.0                  2.03                14.9   \n",
       "30392            30.0                  0.82                 8.4   \n",
       "17470            25.0                  0.76                 3.0   \n",
       "\n",
       "       Magnesium_me_percent    Fertility_Status  \\\n",
       "14878                  5.86           Poor Soil   \n",
       "29521                  1.89           Very Poor   \n",
       "55263                  1.01  Moderately Healthy   \n",
       "60449                  2.89           Poor Soil   \n",
       "8266                   4.43           Poor Soil   \n",
       "33162                  4.64             Healthy   \n",
       "24518                  4.55  Moderately Healthy   \n",
       "2383                   4.75  Moderately Healthy   \n",
       "30392                  3.65           Poor Soil   \n",
       "17470                  2.44           Poor Soil   \n",
       "\n",
       "                                                                                                                       Fertilizer_Recommendation  \n",
       "14878                                                            Plant with 50 kg per acre of NPK and 20 tons of FYM/compost, top dress with CAN  \n",
       "29521                                                            Plant with 50 kg per acre of NPK and 20 tons of FYM/compost, top dress with CAN  \n",
       "55263                                                            Plant with 50 kg per acre of NPK and 20 tons of FYM/compost, top dress with CAN  \n",
       "60449  Apply agricultural calcitic lime 14 days before planting. plant with 50 kg per acre of NPK and 20 tons of FYM/compost, top dress with CAN  \n",
       "8266                                                             Plant with 50 kg per acre of NPK and 20 tons of FYM/compost, top dress with CAN  \n",
       "33162                                                                   Plant with 20 tons FYM/compost manure, top dress with 50 kg CAN per acre  \n",
       "24518                                                                   Plant with 20 tons FYM/compost manure, top dress with 50 kg CAN per acre  \n",
       "2383                                                                    Plant with 20 tons FYM/compost manure, top dress with 50 kg CAN per acre  \n",
       "30392                                                            Plant with 50 kg per acre of NPK and 20 tons of FYM/compost, top dress with CAN  \n",
       "17470  Apply agricultural calcitic lime 14 days before planting. plant with 50 kg per acre of NPK and 20 tons of FYM/compost, top dress with CAN  "
      ]
     },
     "execution_count": 4,
     "metadata": {},
     "output_type": "execute_result"
    }
   ],
   "source": [
    "data.sample(10)"
   ]
  },
  {
   "cell_type": "code",
   "execution_count": 12,
   "metadata": {},
   "outputs": [
    {
     "data": {
      "text/plain": [
       "(65236, 10)"
      ]
     },
     "execution_count": 12,
     "metadata": {},
     "output_type": "execute_result"
    }
   ],
   "source": [
    "data.shape"
   ]
  },
  {
   "cell_type": "code",
   "execution_count": 7,
   "metadata": {},
   "outputs": [
    {
     "name": "stdout",
     "output_type": "stream",
     "text": [
      "<class 'pandas.core.frame.DataFrame'>\n",
      "RangeIndex: 65236 entries, 0 to 65235\n",
      "Data columns (total 10 columns):\n",
      " #   Column                     Non-Null Count  Dtype  \n",
      "---  ------                     --------------  -----  \n",
      " 0   County                     65236 non-null  object \n",
      " 1   Soil_pH                    65236 non-null  float64\n",
      " 2   Total_N_percent            65236 non-null  float64\n",
      " 3   Total_OC_percent           65236 non-null  float64\n",
      " 4   Phosphorus_ppm             65236 non-null  float64\n",
      " 5   Potassium_me_percent       65236 non-null  float64\n",
      " 6   Calcium_me_percent         65236 non-null  float64\n",
      " 7   Magnesium_me_percent       65236 non-null  float64\n",
      " 8   Fertility_Status           65236 non-null  object \n",
      " 9   Fertilizer_Recommendation  65236 non-null  object \n",
      "dtypes: float64(7), object(3)\n",
      "memory usage: 5.0+ MB\n"
     ]
    }
   ],
   "source": [
    "# getting information about the dataset\n",
    "data.info()"
   ]
  },
  {
   "cell_type": "code",
   "execution_count": 6,
   "metadata": {},
   "outputs": [
    {
     "data": {
      "text/plain": [
       "County                       0\n",
       "Soil_pH                      0\n",
       "Total_N_percent              0\n",
       "Total_OC_percent             0\n",
       "Phosphorus_ppm               0\n",
       "Potassium_me_percent         0\n",
       "Calcium_me_percent           0\n",
       "Magnesium_me_percent         0\n",
       "Fertility_Status             0\n",
       "Fertilizer_Recommendation    0\n",
       "dtype: int64"
      ]
     },
     "execution_count": 6,
     "metadata": {},
     "output_type": "execute_result"
    }
   ],
   "source": [
    "# confirming the data is clean\n",
    "data.isna().sum()"
   ]
  },
  {
   "cell_type": "markdown",
   "metadata": {},
   "source": [
    "### Data Preparation"
   ]
  },
  {
   "cell_type": "code",
   "execution_count": null,
   "metadata": {},
   "outputs": [],
   "source": [
    "# Importing necessary libraries for preprocessing\n",
    "from sklearn.preprocessing import StandardScaler, MinMaxScaler\n",
    "from sklearn.preprocessing import LabelEncoder\n",
    "from imblearn.over_sampling import SMOTE\n",
    "\n",
    "# import custom preprocessing class :NB it fails when you run the first time run it twice should fix the issue\n",
    "from api.utils.preprocessing import SoilDataPreprocessor"
   ]
  },
  {
   "cell_type": "code",
   "execution_count": 10,
   "metadata": {},
   "outputs": [
    {
     "data": {
      "text/plain": [
       "Index(['County', 'Soil_pH', 'Total_N_percent', 'Total_OC_percent',\n",
       "       'Phosphorus_ppm', 'Potassium_me_percent', 'Calcium_me_percent',\n",
       "       'Magnesium_me_percent', 'Fertility_Status',\n",
       "       'Fertilizer_Recommendation'],\n",
       "      dtype='object')"
      ]
     },
     "execution_count": 10,
     "metadata": {},
     "output_type": "execute_result"
    }
   ],
   "source": [
    "data.columns"
   ]
  },
  {
   "cell_type": "code",
   "execution_count": 11,
   "metadata": {},
   "outputs": [
    {
     "data": {
      "text/plain": [
       "Fertilizer_Recommendation\n",
       "Plant with 50 kg per acre of NPK and 20 tons of FYM/compost, top dress with CAN                                                              25679\n",
       "Plant with 20 tons FYM/compost manure, top dress with 50 kg CAN per acre                                                                     17810\n",
       "Apply agricultural calcitic lime 14 days before planting. plant with 50 kg per acre of NPK and 20 tons of FYM/compost, top dress with CAN    15492\n",
       "Apply agricultural calcitic lime 14 days before planting                                                                                      6255\n",
       "Name: count, dtype: int64"
      ]
     },
     "execution_count": 11,
     "metadata": {},
     "output_type": "execute_result"
    }
   ],
   "source": [
    "data[\"Fertilizer_Recommendation\"].value_counts()"
   ]
  },
  {
   "cell_type": "code",
   "execution_count": 13,
   "metadata": {},
   "outputs": [
    {
     "name": "stderr",
     "output_type": "stream",
     "text": [
      "2025-06-25 20:57:02,005 - SoilDataPreprocessor - INFO - SoilDataPreprocessor initialized\n",
      "INFO:SoilDataPreprocessor:SoilDataPreprocessor initialized\n",
      "2025-06-25 20:57:02,010 - SoilDataPreprocessor - INFO - ============================================================\n",
      "INFO:SoilDataPreprocessor:============================================================\n",
      "2025-06-25 20:57:02,013 - SoilDataPreprocessor - INFO - Starting fit_transform process\n",
      "INFO:SoilDataPreprocessor:Starting fit_transform process\n",
      "2025-06-25 20:57:02,015 - SoilDataPreprocessor - INFO - Parameters - encoding: label, scaling: standard, SMOTE: True\n",
      "INFO:SoilDataPreprocessor:Parameters - encoding: label, scaling: standard, SMOTE: True\n",
      "2025-06-25 20:57:02,017 - SoilDataPreprocessor - INFO - Input DataFrame shape: (65236, 10)\n",
      "INFO:SoilDataPreprocessor:Input DataFrame shape: (65236, 10)\n",
      "2025-06-25 20:57:02,019 - SoilDataPreprocessor - INFO - Target column: Fertilizer_Recommendation\n",
      "INFO:SoilDataPreprocessor:Target column: Fertilizer_Recommendation\n",
      "2025-06-25 20:57:02,022 - SoilDataPreprocessor - INFO - Target column data type: object\n",
      "INFO:SoilDataPreprocessor:Target column data type: object\n",
      "2025-06-25 20:57:02,032 - SoilDataPreprocessor - INFO - Target classes: ['Plant with 50 kg per acre of NPK and 20 tons of FYM/compost, top dress with CAN'\n",
      " 'Apply agricultural calcitic lime 14 days before planting. plant with 50 kg per acre of NPK and 20 tons of FYM/compost, top dress with CAN'\n",
      " 'Plant with 20 tons FYM/compost manure, top dress with 50 kg CAN per acre'\n",
      " 'Apply agricultural calcitic lime 14 days before planting']\n",
      "INFO:SoilDataPreprocessor:Target classes: ['Plant with 50 kg per acre of NPK and 20 tons of FYM/compost, top dress with CAN'\n",
      " 'Apply agricultural calcitic lime 14 days before planting. plant with 50 kg per acre of NPK and 20 tons of FYM/compost, top dress with CAN'\n",
      " 'Plant with 20 tons FYM/compost manure, top dress with 50 kg CAN per acre'\n",
      " 'Apply agricultural calcitic lime 14 days before planting']\n",
      "Overall Progress:   0%|          | 0/3 [00:00<?, ?step/s]2025-06-25 20:57:02,037 - SoilDataPreprocessor - INFO - ----------------------------------------\n",
      "INFO:SoilDataPreprocessor:----------------------------------------\n",
      "2025-06-25 20:57:02,039 - SoilDataPreprocessor - INFO - STEP 1: Categorical Encoding\n",
      "INFO:SoilDataPreprocessor:STEP 1: Categorical Encoding\n",
      "2025-06-25 20:57:02,042 - SoilDataPreprocessor - INFO - Starting categorical encoding with type: label\n",
      "INFO:SoilDataPreprocessor:Starting categorical encoding with type: label\n",
      "\n",
      "Encoding categorical columns:   0%|          | 0/3 [00:00<?, ?column/s]\n",
      "Encoding categorical columns:   0%|          | 0/3 [00:00<?, ?column/s, current=County]2025-06-25 20:57:02,066 - SoilDataPreprocessor - INFO - Fitted LabelEncoder for County, classes: 47\n",
      "INFO:SoilDataPreprocessor:Fitted LabelEncoder for County, classes: 47\n",
      "\n",
      "Encoding categorical columns:  33%|███▎      | 1/3 [00:00<00:00,  8.55column/s, current=County]\n",
      "Encoding categorical columns:  33%|███▎      | 1/3 [00:00<00:00,  8.55column/s, current=Fertility_Status]2025-06-25 20:57:02,194 - SoilDataPreprocessor - INFO - Fitted LabelEncoder for Fertility_Status, classes: 4\n",
      "INFO:SoilDataPreprocessor:Fitted LabelEncoder for Fertility_Status, classes: 4\n",
      "\n",
      "Encoding categorical columns:  67%|██████▋   | 2/3 [00:00<00:00,  8.14column/s, current=Fertility_Status]\n",
      "Encoding categorical columns:  67%|██████▋   | 2/3 [00:00<00:00,  8.14column/s, current=Fertilizer_Recommendation]2025-06-25 20:57:02,316 - SoilDataPreprocessor - INFO - Fitted LabelEncoder for Fertilizer_Recommendation, classes: 4\n",
      "INFO:SoilDataPreprocessor:Fitted LabelEncoder for Fertilizer_Recommendation, classes: 4\n",
      "\n",
      "Encoding categorical columns: 100%|██████████| 3/3 [00:00<00:00,  8.12column/s, current=Fertilizer_Recommendation]\n",
      "2025-06-25 20:57:02,423 - SoilDataPreprocessor - INFO - Categorical encoding completed. Output shape: (65236, 10)\n",
      "INFO:SoilDataPreprocessor:Categorical encoding completed. Output shape: (65236, 10)\n",
      "Overall Progress:  33%|███▎      | 1/3 [00:00<00:00,  2.57step/s, current_step=Encoding completed]2025-06-25 20:57:02,427 - SoilDataPreprocessor - INFO - ----------------------------------------\n",
      "INFO:SoilDataPreprocessor:----------------------------------------\n",
      "2025-06-25 20:57:02,429 - SoilDataPreprocessor - INFO - STEP 2: Numerical Scaling\n",
      "INFO:SoilDataPreprocessor:STEP 2: Numerical Scaling\n",
      "2025-06-25 20:57:02,432 - SoilDataPreprocessor - INFO - Starting numerical scaling with type: standard\n",
      "INFO:SoilDataPreprocessor:Starting numerical scaling with type: standard\n",
      "2025-06-25 20:57:02,440 - SoilDataPreprocessor - INFO - Columns to scale: ['Soil_pH', 'Total_N_percent', 'Total_OC_percent', 'Phosphorus_ppm', 'Potassium_me_percent', 'Calcium_me_percent', 'Magnesium_me_percent']\n",
      "INFO:SoilDataPreprocessor:Columns to scale: ['Soil_pH', 'Total_N_percent', 'Total_OC_percent', 'Phosphorus_ppm', 'Potassium_me_percent', 'Calcium_me_percent', 'Magnesium_me_percent']\n",
      "2025-06-25 20:57:02,442 - SoilDataPreprocessor - INFO - Fitting scaler (training mode)\n",
      "INFO:SoilDataPreprocessor:Fitting scaler (training mode)\n",
      "\n",
      "Fitting scaler:   0%|          | 0/3 [00:00<?, ?step/s]\n",
      "Fitting scaler:  33%|███▎      | 1/3 [00:00<00:00, 1810.23step/s, step=Scaler initialized]\n",
      "Fitting scaler:  67%|██████▋   | 2/3 [00:00<00:00, 235.93step/s, step=Pre-scaling stats logged]\n",
      "Fitting scaler: 100%|██████████| 3/3 [00:00<00:00, 124.11step/s, step=Scaling completed]       \n",
      "2025-06-25 20:57:02,475 - SoilDataPreprocessor - INFO - Scaler fitted and applied to 7 columns\n",
      "INFO:SoilDataPreprocessor:Scaler fitted and applied to 7 columns\n",
      "2025-06-25 20:57:02,477 - SoilDataPreprocessor - INFO - Numerical scaling completed. Output shape: (65236, 10)\n",
      "INFO:SoilDataPreprocessor:Numerical scaling completed. Output shape: (65236, 10)\n",
      "2025-06-25 20:57:02,479 - SoilDataPreprocessor - INFO - Preprocessor marked as fitted\n",
      "INFO:SoilDataPreprocessor:Preprocessor marked as fitted\n",
      "Overall Progress:  67%|██████▋   | 2/3 [00:00<00:00,  2.57step/s, current_step=Scaling completed] 2025-06-25 20:57:02,483 - SoilDataPreprocessor - INFO - ----------------------------------------\n",
      "INFO:SoilDataPreprocessor:----------------------------------------\n",
      "2025-06-25 20:57:02,485 - SoilDataPreprocessor - INFO - STEP 3: SMOTE Balancing\n",
      "INFO:SoilDataPreprocessor:STEP 3: SMOTE Balancing\n",
      "2025-06-25 20:57:02,487 - SoilDataPreprocessor - INFO - Starting SMOTE balancing for target column: Fertilizer_Recommendation\n",
      "INFO:SoilDataPreprocessor:Starting SMOTE balancing for target column: Fertilizer_Recommendation\n",
      "2025-06-25 20:57:02,495 - SoilDataPreprocessor - INFO - Class distribution before SMOTE:\n",
      "INFO:SoilDataPreprocessor:Class distribution before SMOTE:\n",
      "2025-06-25 20:57:02,497 - SoilDataPreprocessor - INFO -   Class 0: 6255 samples (9.59%)\n",
      "INFO:SoilDataPreprocessor:  Class 0: 6255 samples (9.59%)\n",
      "2025-06-25 20:57:02,499 - SoilDataPreprocessor - INFO -   Class 1: 15492 samples (23.75%)\n",
      "INFO:SoilDataPreprocessor:  Class 1: 15492 samples (23.75%)\n",
      "2025-06-25 20:57:02,501 - SoilDataPreprocessor - INFO -   Class 2: 17810 samples (27.30%)\n",
      "INFO:SoilDataPreprocessor:  Class 2: 17810 samples (27.30%)\n",
      "2025-06-25 20:57:02,503 - SoilDataPreprocessor - INFO -   Class 3: 25679 samples (39.36%)\n",
      "INFO:SoilDataPreprocessor:  Class 3: 25679 samples (39.36%)\n",
      "\n",
      "Applying SMOTE:   0%|          | 0/3 [00:00<?, ?step/s]\n",
      "Applying SMOTE:  33%|███▎      | 1/3 [00:00<00:00, 1681.08step/s, step=SMOTE initialized]\n",
      "Applying SMOTE:  67%|██████▋   | 2/3 [00:00<00:00,  2.30step/s, step=SMOTE initialized]  \n",
      "Applying SMOTE:  67%|██████▋   | 2/3 [00:00<00:00,  2.30step/s, step=SMOTE applied]    \n",
      "Applying SMOTE: 100%|██████████| 3/3 [00:00<00:00,  3.41step/s, step=Conversion completed]\n",
      "2025-06-25 20:57:03,391 - SoilDataPreprocessor - INFO - Class distribution after SMOTE:\n",
      "INFO:SoilDataPreprocessor:Class distribution after SMOTE:\n",
      "2025-06-25 20:57:03,394 - SoilDataPreprocessor - INFO -   Class 0: 25679 samples (25.00%)\n",
      "INFO:SoilDataPreprocessor:  Class 0: 25679 samples (25.00%)\n",
      "2025-06-25 20:57:03,398 - SoilDataPreprocessor - INFO -   Class 1: 25679 samples (25.00%)\n",
      "INFO:SoilDataPreprocessor:  Class 1: 25679 samples (25.00%)\n",
      "2025-06-25 20:57:03,399 - SoilDataPreprocessor - INFO -   Class 2: 25679 samples (25.00%)\n",
      "INFO:SoilDataPreprocessor:  Class 2: 25679 samples (25.00%)\n",
      "2025-06-25 20:57:03,401 - SoilDataPreprocessor - INFO -   Class 3: 25679 samples (25.00%)\n",
      "INFO:SoilDataPreprocessor:  Class 3: 25679 samples (25.00%)\n",
      "2025-06-25 20:57:03,404 - SoilDataPreprocessor - INFO - SMOTE increased dataset from 65236 to 102716 samples\n",
      "INFO:SoilDataPreprocessor:SMOTE increased dataset from 65236 to 102716 samples\n",
      "2025-06-25 20:57:03,405 - SoilDataPreprocessor - INFO - SMOTE balancing completed successfully\n",
      "INFO:SoilDataPreprocessor:SMOTE balancing completed successfully\n",
      "2025-06-25 20:57:03,418 - SoilDataPreprocessor - INFO - Final DataFrame shape after SMOTE: (102716, 10)\n",
      "INFO:SoilDataPreprocessor:Final DataFrame shape after SMOTE: (102716, 10)\n",
      "Overall Progress: 100%|██████████| 3/3 [00:01<00:00,  2.16step/s, current_step=SMOTE completed]  \n",
      "2025-06-25 20:57:03,426 - SoilDataPreprocessor - INFO - ============================================================\n",
      "INFO:SoilDataPreprocessor:============================================================\n",
      "2025-06-25 20:57:03,429 - SoilDataPreprocessor - INFO - fit_transform completed successfully. Final shape: (102716, 10)\n",
      "INFO:SoilDataPreprocessor:fit_transform completed successfully. Final shape: (102716, 10)\n"
     ]
    }
   ],
   "source": [
    "# During training phase\n",
    "preprocessor = SoilDataPreprocessor()\n",
    "\n",
    "# Fit and transform training data\n",
    "train_data_processed = preprocessor.fit_transform(\n",
    "    data, \n",
    "    target_column='Fertilizer_Recommendation',\n",
    "    encoding_type='label',\n",
    "    scaling_type='standard',\n",
    "    apply_smote=True\n",
    ")"
   ]
  },
  {
   "cell_type": "code",
   "execution_count": 14,
   "metadata": {},
   "outputs": [
    {
     "name": "stderr",
     "output_type": "stream",
     "text": [
      "2025-06-25 20:57:13,509 - SoilDataPreprocessor - INFO - Saving preprocessor to: ../models/fertilizer_recommendation_preprocessor_karlo_25_july_2025.joblib\n",
      "INFO:SoilDataPreprocessor:Saving preprocessor to: ../models/fertilizer_recommendation_preprocessor_karlo_25_july_2025.joblib\n",
      "Saving preprocessor: 100%|██████████| 1/1 [00:00<00:00, 340.20file/s]\n",
      "2025-06-25 20:57:13,518 - SoilDataPreprocessor - INFO - Preprocessor saved successfully\n",
      "INFO:SoilDataPreprocessor:Preprocessor saved successfully\n"
     ]
    }
   ],
   "source": [
    "# saving the preprocessor\n",
    "preprocessor.save('../models/fertilizer_recommendation_preprocessor_karlo_25_july_2025.joblib')"
   ]
  },
  {
   "cell_type": "code",
   "execution_count": 15,
   "metadata": {},
   "outputs": [
    {
     "data": {
      "text/html": [
       "<div>\n",
       "<style scoped>\n",
       "    .dataframe tbody tr th:only-of-type {\n",
       "        vertical-align: middle;\n",
       "    }\n",
       "\n",
       "    .dataframe tbody tr th {\n",
       "        vertical-align: top;\n",
       "    }\n",
       "\n",
       "    .dataframe thead th {\n",
       "        text-align: right;\n",
       "    }\n",
       "</style>\n",
       "<table border=\"1\" class=\"dataframe\">\n",
       "  <thead>\n",
       "    <tr style=\"text-align: right;\">\n",
       "      <th></th>\n",
       "      <th>County</th>\n",
       "      <th>Soil_pH</th>\n",
       "      <th>Total_N_percent</th>\n",
       "      <th>Total_OC_percent</th>\n",
       "      <th>Phosphorus_ppm</th>\n",
       "      <th>Potassium_me_percent</th>\n",
       "      <th>Calcium_me_percent</th>\n",
       "      <th>Magnesium_me_percent</th>\n",
       "      <th>Fertility_Status</th>\n",
       "      <th>Fertilizer_Recommendation</th>\n",
       "    </tr>\n",
       "  </thead>\n",
       "  <tbody>\n",
       "    <tr>\n",
       "      <th>25185</th>\n",
       "      <td>14</td>\n",
       "      <td>-1.088198</td>\n",
       "      <td>0.007714</td>\n",
       "      <td>0.009702</td>\n",
       "      <td>-0.280239</td>\n",
       "      <td>-0.239223</td>\n",
       "      <td>1.463064</td>\n",
       "      <td>-0.021479</td>\n",
       "      <td>2</td>\n",
       "      <td>1</td>\n",
       "    </tr>\n",
       "    <tr>\n",
       "      <th>76927</th>\n",
       "      <td>40</td>\n",
       "      <td>-1.361258</td>\n",
       "      <td>0.001599</td>\n",
       "      <td>-0.005304</td>\n",
       "      <td>0.669778</td>\n",
       "      <td>-0.118626</td>\n",
       "      <td>-0.441194</td>\n",
       "      <td>-0.441357</td>\n",
       "      <td>0</td>\n",
       "      <td>0</td>\n",
       "    </tr>\n",
       "    <tr>\n",
       "      <th>54947</th>\n",
       "      <td>35</td>\n",
       "      <td>0.672161</td>\n",
       "      <td>-0.009019</td>\n",
       "      <td>-0.009830</td>\n",
       "      <td>0.229600</td>\n",
       "      <td>-0.019831</td>\n",
       "      <td>0.493535</td>\n",
       "      <td>0.274748</td>\n",
       "      <td>1</td>\n",
       "      <td>2</td>\n",
       "    </tr>\n",
       "    <tr>\n",
       "      <th>54149</th>\n",
       "      <td>34</td>\n",
       "      <td>-0.677447</td>\n",
       "      <td>0.005953</td>\n",
       "      <td>0.005283</td>\n",
       "      <td>-0.382207</td>\n",
       "      <td>0.064550</td>\n",
       "      <td>-0.072739</td>\n",
       "      <td>-0.242075</td>\n",
       "      <td>1</td>\n",
       "      <td>1</td>\n",
       "    </tr>\n",
       "    <tr>\n",
       "      <th>66220</th>\n",
       "      <td>12</td>\n",
       "      <td>-1.320215</td>\n",
       "      <td>0.003075</td>\n",
       "      <td>0.004911</td>\n",
       "      <td>0.977418</td>\n",
       "      <td>-0.025014</td>\n",
       "      <td>0.152027</td>\n",
       "      <td>-0.981302</td>\n",
       "      <td>0</td>\n",
       "      <td>0</td>\n",
       "    </tr>\n",
       "    <tr>\n",
       "      <th>24910</th>\n",
       "      <td>14</td>\n",
       "      <td>-1.166436</td>\n",
       "      <td>-0.005496</td>\n",
       "      <td>-0.007002</td>\n",
       "      <td>1.045342</td>\n",
       "      <td>-0.137965</td>\n",
       "      <td>-0.493155</td>\n",
       "      <td>-0.122323</td>\n",
       "      <td>1</td>\n",
       "      <td>0</td>\n",
       "    </tr>\n",
       "    <tr>\n",
       "      <th>15768</th>\n",
       "      <td>10</td>\n",
       "      <td>-1.117537</td>\n",
       "      <td>-0.007258</td>\n",
       "      <td>-0.008504</td>\n",
       "      <td>-0.178271</td>\n",
       "      <td>-0.225722</td>\n",
       "      <td>-0.475995</td>\n",
       "      <td>-0.459518</td>\n",
       "      <td>3</td>\n",
       "      <td>1</td>\n",
       "    </tr>\n",
       "    <tr>\n",
       "      <th>35997</th>\n",
       "      <td>21</td>\n",
       "      <td>-0.501411</td>\n",
       "      <td>-0.008139</td>\n",
       "      <td>-0.010095</td>\n",
       "      <td>0.780226</td>\n",
       "      <td>-0.056959</td>\n",
       "      <td>-0.321557</td>\n",
       "      <td>0.218024</td>\n",
       "      <td>1</td>\n",
       "      <td>0</td>\n",
       "    </tr>\n",
       "    <tr>\n",
       "      <th>54811</th>\n",
       "      <td>35</td>\n",
       "      <td>-0.354715</td>\n",
       "      <td>-0.003735</td>\n",
       "      <td>-0.004174</td>\n",
       "      <td>-0.280239</td>\n",
       "      <td>0.091553</td>\n",
       "      <td>-0.270077</td>\n",
       "      <td>0.791571</td>\n",
       "      <td>2</td>\n",
       "      <td>3</td>\n",
       "    </tr>\n",
       "    <tr>\n",
       "      <th>90647</th>\n",
       "      <td>3</td>\n",
       "      <td>-0.839419</td>\n",
       "      <td>-0.007258</td>\n",
       "      <td>-0.004320</td>\n",
       "      <td>-0.446673</td>\n",
       "      <td>-0.233143</td>\n",
       "      <td>-0.411823</td>\n",
       "      <td>-0.134928</td>\n",
       "      <td>3</td>\n",
       "      <td>1</td>\n",
       "    </tr>\n",
       "  </tbody>\n",
       "</table>\n",
       "</div>"
      ],
      "text/plain": [
       "       County   Soil_pH  Total_N_percent  Total_OC_percent  Phosphorus_ppm  \\\n",
       "25185      14 -1.088198         0.007714          0.009702       -0.280239   \n",
       "76927      40 -1.361258         0.001599         -0.005304        0.669778   \n",
       "54947      35  0.672161        -0.009019         -0.009830        0.229600   \n",
       "54149      34 -0.677447         0.005953          0.005283       -0.382207   \n",
       "66220      12 -1.320215         0.003075          0.004911        0.977418   \n",
       "24910      14 -1.166436        -0.005496         -0.007002        1.045342   \n",
       "15768      10 -1.117537        -0.007258         -0.008504       -0.178271   \n",
       "35997      21 -0.501411        -0.008139         -0.010095        0.780226   \n",
       "54811      35 -0.354715        -0.003735         -0.004174       -0.280239   \n",
       "90647       3 -0.839419        -0.007258         -0.004320       -0.446673   \n",
       "\n",
       "       Potassium_me_percent  Calcium_me_percent  Magnesium_me_percent  \\\n",
       "25185             -0.239223            1.463064             -0.021479   \n",
       "76927             -0.118626           -0.441194             -0.441357   \n",
       "54947             -0.019831            0.493535              0.274748   \n",
       "54149              0.064550           -0.072739             -0.242075   \n",
       "66220             -0.025014            0.152027             -0.981302   \n",
       "24910             -0.137965           -0.493155             -0.122323   \n",
       "15768             -0.225722           -0.475995             -0.459518   \n",
       "35997             -0.056959           -0.321557              0.218024   \n",
       "54811              0.091553           -0.270077              0.791571   \n",
       "90647             -0.233143           -0.411823             -0.134928   \n",
       "\n",
       "       Fertility_Status  Fertilizer_Recommendation  \n",
       "25185                 2                          1  \n",
       "76927                 0                          0  \n",
       "54947                 1                          2  \n",
       "54149                 1                          1  \n",
       "66220                 0                          0  \n",
       "24910                 1                          0  \n",
       "15768                 3                          1  \n",
       "35997                 1                          0  \n",
       "54811                 2                          3  \n",
       "90647                 3                          1  "
      ]
     },
     "execution_count": 15,
     "metadata": {},
     "output_type": "execute_result"
    }
   ],
   "source": [
    "train_data_processed.sample(10)"
   ]
  },
  {
   "cell_type": "code",
   "execution_count": 16,
   "metadata": {},
   "outputs": [
    {
     "name": "stdout",
     "output_type": "stream",
     "text": [
      "X columns used: \n",
      " Index(['County', 'Soil_pH', 'Total_N_percent', 'Total_OC_percent',\n",
      "       'Phosphorus_ppm', 'Potassium_me_percent', 'Calcium_me_percent',\n",
      "       'Magnesium_me_percent', 'Fertility_Status'],\n",
      "      dtype='object')\n",
      "\n",
      "y target columns: Fertilizer_Recommendation\n"
     ]
    }
   ],
   "source": [
    "from sklearn.model_selection import train_test_split\n",
    "\n",
    "X = train_data_processed.drop(columns=['Fertilizer_Recommendation'])\n",
    "y = train_data_processed['Fertilizer_Recommendation']\n",
    "\n",
    "print(f\"X columns used: \\n\", X.columns)\n",
    "print(f\"\\ny target columns:\", y.name)\n",
    "\n",
    "# splitting the dataset into train , test and validation\n",
    "X_train, X_test, y_train, y_test = train_test_split(X, y, test_size=0.25, random_state=43)"
   ]
  },
  {
   "cell_type": "markdown",
   "metadata": {},
   "source": [
    "### Modelling"
   ]
  },
  {
   "cell_type": "code",
   "execution_count": 39,
   "metadata": {},
   "outputs": [],
   "source": [
    "# Model libraries\n",
    "from sklearn.linear_model import LogisticRegression\n",
    "from sklearn.multiclass import OneVsRestClassifier\n",
    "from sklearn.svm import LinearSVC\n",
    "from sklearn.tree import DecisionTreeClassifier\n",
    "from sklearn.ensemble import RandomForestClassifier\n",
    "from sklearn.ensemble import GradientBoostingClassifier\n",
    "from xgboost import XGBClassifier\n",
    "\n",
    "# Model metrics libraries\n",
    "from sklearn.metrics import (\n",
    "    accuracy_score, precision_score, \n",
    "    recall_score, f1_score, roc_auc_score, \n",
    "    confusion_matrix, classification_report\n",
    ")\n",
    "\n",
    "from sklearn.model_selection import cross_val_score"
   ]
  },
  {
   "cell_type": "markdown",
   "metadata": {},
   "source": [
    "#### 1. Baseline Model"
   ]
  },
  {
   "cell_type": "code",
   "execution_count": 18,
   "metadata": {},
   "outputs": [],
   "source": [
    "# OneVsRestClassifier with LinearSVC \n",
    "# Initialize the OneVsRestClassifier with LinearSVC\n",
    "OvR_clf = OneVsRestClassifier(LinearSVC(random_state=42, dual=False, max_iter=5000))\n",
    "\n",
    "# Fit the model on the training data\n",
    "OvR_clf.fit(X_train, y_train)\n",
    "\n",
    "# Predict on the test data\n",
    "y_pred_ovr_clf = OvR_clf.predict(X_test)"
   ]
  },
  {
   "cell_type": "code",
   "execution_count": 19,
   "metadata": {},
   "outputs": [
    {
     "name": "stdout",
     "output_type": "stream",
     "text": [
      "Multiclass with OneVsRest:\n",
      "Accuracy: 0.9362\n",
      "Precision: 0.9374\n",
      "Recall: 0.9364\n",
      "F1 Score: 0.9362\n"
     ]
    }
   ],
   "source": [
    "# Model Evaluation for Logistic Regression\n",
    "print(\"Multiclass with OneVsRest:\")\n",
    "\n",
    "# Accuracy is the ratio of correctly predicted observation to the total observations.\n",
    "print(f\"Accuracy: {accuracy_score(y_test, y_pred_ovr_clf):.4f}\")\n",
    "\n",
    "# Precision is the ratio of correctly predicted positive observations to the total predicted positives.\n",
    "print(f\"Precision: {precision_score(y_test, y_pred_ovr_clf, average='macro'):.4f}\")\n",
    "\n",
    "# Recall (Sensitivity) is the ratio of correctly predicted positive observations to the all observations in actual class.\n",
    "print(f\"Recall: {recall_score(y_test, y_pred_ovr_clf, average='macro'):.4f}\")\n",
    "\n",
    "# F1 Score is the weighted average of Precision and Recall. Therefore, this score takes both false positives and false negatives into account.\n",
    "print(f\"F1 Score: {f1_score(y_test, y_pred_ovr_clf, average='macro'):.4f}\")"
   ]
  },
  {
   "cell_type": "code",
   "execution_count": 20,
   "metadata": {},
   "outputs": [
    {
     "name": "stdout",
     "output_type": "stream",
     "text": [
      "Classification report:\n",
      "               precision    recall  f1-score   support\n",
      "\n",
      "           0       0.91      0.96      0.93      6399\n",
      "           1       0.91      0.96      0.94      6343\n",
      "           2       0.96      0.91      0.94      6447\n",
      "           3       0.96      0.92      0.94      6490\n",
      "\n",
      "    accuracy                           0.94     25679\n",
      "   macro avg       0.94      0.94      0.94     25679\n",
      "weighted avg       0.94      0.94      0.94     25679\n",
      "\n"
     ]
    }
   ],
   "source": [
    "print(\"Classification report:\\n\", classification_report(y_test, y_pred_ovr_clf))"
   ]
  },
  {
   "cell_type": "code",
   "execution_count": 21,
   "metadata": {},
   "outputs": [
    {
     "data": {
      "text/plain": [
       "(array([0, 1, 2, 3]),\n",
       " [Text(0, 0, '0'), Text(1, 0, '1'), Text(2, 0, '2'), Text(3, 0, '3')])"
      ]
     },
     "execution_count": 21,
     "metadata": {},
     "output_type": "execute_result"
    },
    {
     "data": {
      "image/png": "[encoded data removed]",
      "text/plain": [
       "<Figure size 640x480 with 2 Axes>"
      ]
     },
     "metadata": {},
     "output_type": "display_data"
    }
   ],
   "source": [
    "from sklearn.metrics import confusion_matrix, ConfusionMatrixDisplay\n",
    "\n",
    "cm = confusion_matrix(y_test, y_pred_ovr_clf, labels=OvR_clf.classes_)\n",
    "disp = ConfusionMatrixDisplay(confusion_matrix=cm, display_labels=OvR_clf.classes_)\n",
    "disp.plot(cmap='Greens')\n",
    "plt.xticks(rotation=90)\n",
    "\n",
    "# Saving the plot\n",
    "# plot_path = '../eda_charts/models_evals/one_versus_rest_Final_karlo_confusion_matrix.png'\n",
    "# plt.savefig(plot_path)"
   ]
  },
  {
   "cell_type": "code",
   "execution_count": 45,
   "metadata": {},
   "outputs": [
    {
     "name": "stdout",
     "output_type": "stream",
     "text": [
      "Cross-validation accuracy scores: [0.91063084 0.94304907 0.90663941 0.95327103 0.92990654 0.94519081\n",
      " 0.89426541 0.92658943 0.93174959 0.93817545]\n",
      "Mean cross-validation accuracy: 0.9279467560345175\n"
     ]
    }
   ],
   "source": [
    "# Run 5-fold cross-validation\n",
    "cv_scores = cross_val_score(OvR_clf, X, y, cv=10, scoring='accuracy')\n",
    "\n",
    "# Print accuracy for each fold\n",
    "print(\"Cross-validation accuracy scores:\", cv_scores)\n",
    "\n",
    "# Print average accuracy\n",
    "print(\"Mean cross-validation accuracy:\", np.mean(cv_scores))"
   ]
  },
  {
   "cell_type": "code",
   "execution_count": 22,
   "metadata": {},
   "outputs": [
    {
     "name": "stdout",
     "output_type": "stream",
     "text": [
      "OneVsRestClassifier models saved to: models/Fertilizer_recommend_OneVsRest_Classifier__Final_karlo_25_july_model\n"
     ]
    }
   ],
   "source": [
    "# Save the model to a file\n",
    "import joblib\n",
    "\n",
    "joblib.dump(OvR_clf, '../models/Fertilizer_recommend_OneVsRest_Classifier_Final_karlo_25_july_model.joblib')\n",
    "print(\"OneVsRestClassifier models saved to: models/Fertilizer_recommend_OneVsRest_Classifier__Final_karlo_25_july_model\")"
   ]
  },
  {
   "cell_type": "markdown",
   "metadata": {},
   "source": [
    "#### 2. Decision Tree"
   ]
  },
  {
   "cell_type": "code",
   "execution_count": 23,
   "metadata": {},
   "outputs": [],
   "source": [
    "# decision trees\n",
    "from sklearn.tree import DecisionTreeClassifier\n",
    "\n",
    "# Initialize the Decision Tree Classifier\n",
    "dtree = DecisionTreeClassifier()\n",
    "\n",
    "# Fit the model on the training data\n",
    "dtree.fit(X_train, y_train)\n",
    "\n",
    "# Predict on the test data\n",
    "y_pred_tree = dtree.predict(X_test)"
   ]
  },
  {
   "cell_type": "code",
   "execution_count": 24,
   "metadata": {},
   "outputs": [
    {
     "name": "stdout",
     "output_type": "stream",
     "text": [
      "Multiclass with Decision tree classifier:\n",
      "Accuracy: 1.0000\n",
      "Precision: 1.0000\n",
      "Recall: 1.0000\n",
      "F1 Score: 1.0000\n"
     ]
    }
   ],
   "source": [
    "print(\"Multiclass with Decision tree classifier:\")\n",
    "\n",
    "# Accuracy is the proportion of true results (both true positives and true negatives) among the total number of cases examined.\n",
    "print(f\"Accuracy: {accuracy_score(y_test, y_pred_tree):.4f}\")\n",
    "\n",
    "# Precision is the ratio of correctly predicted positive observations to the total predicted positives.\n",
    "print(f\"Precision: {precision_score(y_test, y_pred_tree, average='macro'):.4f}\")\n",
    "\n",
    "# Recall (Sensitivity) is the ratio of correctly predicted positive observations to the all observations in actual class.\n",
    "print(f\"Recall: {recall_score(y_test, y_pred_tree, average='macro'):.4f}\")\n",
    "\n",
    "# F1 Score is the weighted average of Precision and Recall.\n",
    "print(f\"F1 Score: {f1_score(y_test, y_pred_tree, average='macro'):.4f}\")"
   ]
  },
  {
   "cell_type": "code",
   "execution_count": 25,
   "metadata": {},
   "outputs": [
    {
     "name": "stdout",
     "output_type": "stream",
     "text": [
      "Classification report:\n",
      "               precision    recall  f1-score   support\n",
      "\n",
      "           0       1.00      1.00      1.00      6399\n",
      "           1       1.00      1.00      1.00      6343\n",
      "           2       1.00      1.00      1.00      6447\n",
      "           3       1.00      1.00      1.00      6490\n",
      "\n",
      "    accuracy                           1.00     25679\n",
      "   macro avg       1.00      1.00      1.00     25679\n",
      "weighted avg       1.00      1.00      1.00     25679\n",
      "\n"
     ]
    }
   ],
   "source": [
    "print(\"Classification report:\\n\", classification_report(y_test, y_pred_tree))"
   ]
  },
  {
   "cell_type": "code",
   "execution_count": 26,
   "metadata": {},
   "outputs": [
    {
     "data": {
      "image/png": "[encoded data removed]",
      "text/plain": [
       "<Figure size 640x480 with 2 Axes>"
      ]
     },
     "metadata": {},
     "output_type": "display_data"
    }
   ],
   "source": [
    "from sklearn.metrics import confusion_matrix, ConfusionMatrixDisplay\n",
    "\n",
    "cm = confusion_matrix(y_test, y_pred_tree, labels=dtree.classes_)\n",
    "disp = ConfusionMatrixDisplay(confusion_matrix=cm, display_labels=dtree.classes_)\n",
    "disp.plot(cmap='Greens')\n",
    "plt.xticks(rotation=90)\n",
    "\n",
    "# Saving the plot\n",
    "# plot_path = '../eda_charts/models_evals/decision_tree__Final_karlo_25_july_confusion_matrix.png'\n",
    "# plt.savefig(plot_path)\n",
    "\n",
    "plt.show()"
   ]
  },
  {
   "cell_type": "code",
   "execution_count": 46,
   "metadata": {},
   "outputs": [
    {
     "name": "stdout",
     "output_type": "stream",
     "text": [
      "Cross-validation accuracy scores: [0.9998053  0.99970794 0.99990265 0.99990265 0.99990265 1.\n",
      " 0.99980528 1.         1.         1.        ]\n",
      "Mean cross-validation accuracy: 0.99990264607941\n"
     ]
    }
   ],
   "source": [
    "# Run 5-fold cross-validation\n",
    "cv_scores = cross_val_score(dtree, X, y, cv=10, scoring='accuracy')\n",
    "\n",
    "# Print accuracy for each fold\n",
    "print(\"Cross-validation accuracy scores:\", cv_scores)\n",
    "\n",
    "# Print average accuracy\n",
    "print(\"Mean cross-validation accuracy:\", np.mean(cv_scores))"
   ]
  },
  {
   "cell_type": "code",
   "execution_count": 27,
   "metadata": {},
   "outputs": [
    {
     "name": "stdout",
     "output_type": "stream",
     "text": [
      "Decision Tree Classifier models saved to: models/Fertilizer_recommend_decisionTree_Classifier_Final_karlo_25_july_model\n"
     ]
    }
   ],
   "source": [
    "# Save the model to a file\n",
    "joblib.dump(dtree, '../models/Fertilizer_recommend_decisionTree_Classifier_Final_karlo_25_july_model_v002.joblib')\n",
    "\n",
    "print(\"Decision Tree Classifier models saved to: models/Fertilizer_recommend_decisionTree_Classifier_Final_karlo_25_july_model\")"
   ]
  },
  {
   "cell_type": "markdown",
   "metadata": {},
   "source": [
    "#### 3. Random Forest"
   ]
  },
  {
   "cell_type": "code",
   "execution_count": 28,
   "metadata": {},
   "outputs": [],
   "source": [
    "# Random forest classifier\n",
    "# Initialize the Random Forest Classifier\n",
    "rf = RandomForestClassifier(random_state=142)\n",
    "\n",
    "# Fit the model\n",
    "rf.fit(X_train, y_train)\n",
    "\n",
    "# Make predictions on test set\n",
    "y_pred_rf = rf.predict(X_test)"
   ]
  },
  {
   "cell_type": "code",
   "execution_count": 29,
   "metadata": {},
   "outputs": [
    {
     "name": "stdout",
     "output_type": "stream",
     "text": [
      "\n",
      "Random Forest:\n",
      "Accuracy: 1.0\n",
      "Precision: 1.0000\n",
      "Recall: 1.0000\n",
      "F1 Score: 1.0000\n"
     ]
    }
   ],
   "source": [
    "# Model Evaluation for Random Forest\n",
    "print(\"\\nRandom Forest:\")\n",
    "\n",
    "# Accuracy is the proportion of true results (both true positives and true negatives) among the total number of cases examined.\n",
    "print(f\"Accuracy: {accuracy_score(y_test, y_pred_rf)}\")\n",
    "\n",
    "# Precision is the ratio of correctly predicted positive observations to the total predicted positives.\n",
    "print(f\"Precision: {precision_score(y_test, y_pred_rf, average='macro'):.4f}\")\n",
    "\n",
    "# Recall (Sensitivity) is the ratio of correctly predicted positive observations to the all observations in actual class.\n",
    "print(f\"Recall: {recall_score(y_test, y_pred_rf, average='macro'):.4f}\")\n",
    "\n",
    "# F1 Score is the weighted average of Precision and Recall. It tries to find the balance between precision and recall.\n",
    "print(f\"F1 Score: {f1_score(y_test, y_pred_rf, average='macro'):.4f}\")"
   ]
  },
  {
   "cell_type": "code",
   "execution_count": 30,
   "metadata": {},
   "outputs": [
    {
     "name": "stdout",
     "output_type": "stream",
     "text": [
      "Classification report:\n",
      "               precision    recall  f1-score   support\n",
      "\n",
      "           0       1.00      1.00      1.00      6399\n",
      "           1       1.00      1.00      1.00      6343\n",
      "           2       1.00      1.00      1.00      6447\n",
      "           3       1.00      1.00      1.00      6490\n",
      "\n",
      "    accuracy                           1.00     25679\n",
      "   macro avg       1.00      1.00      1.00     25679\n",
      "weighted avg       1.00      1.00      1.00     25679\n",
      "\n"
     ]
    }
   ],
   "source": [
    "print(\"Classification report:\\n\", classification_report(y_test, y_pred_rf))"
   ]
  },
  {
   "cell_type": "code",
   "execution_count": 31,
   "metadata": {},
   "outputs": [
    {
     "data": {
      "image/png": "[encoded data removed]",
      "text/plain": [
       "<Figure size 640x480 with 2 Axes>"
      ]
     },
     "metadata": {},
     "output_type": "display_data"
    }
   ],
   "source": [
    "from sklearn.metrics import confusion_matrix, ConfusionMatrixDisplay\n",
    "\n",
    "cm = confusion_matrix(y_test, y_pred_rf, labels=rf.classes_)\n",
    "disp = ConfusionMatrixDisplay(confusion_matrix=cm, display_labels=rf.classes_)\n",
    "disp.plot(cmap='Greens')\n",
    "plt.xticks(rotation=90)\n",
    "\n",
    "# Saving the plot\n",
    "# plot_path = 'eda_charts/models_evals/random_forest_confusion_matrix.png'\n",
    "# plt.savefig(plot_path)\n",
    "\n",
    "plt.show()"
   ]
  },
  {
   "cell_type": "code",
   "execution_count": 47,
   "metadata": {},
   "outputs": [
    {
     "name": "stdout",
     "output_type": "stream",
     "text": [
      "Cross-validation accuracy scores: [0.9998053  1.         1.         1.         0.99990265 1.\n",
      " 1.         1.         1.         1.        ]\n",
      "Mean cross-validation accuracy: 0.9999707943925233\n"
     ]
    }
   ],
   "source": [
    "# Run 5-fold cross-validation\n",
    "cv_scores = cross_val_score(rf, X, y, cv=10, scoring='accuracy')\n",
    "\n",
    "# Print accuracy for each fold\n",
    "print(\"Cross-validation accuracy scores:\", cv_scores)\n",
    "\n",
    "# Print average accuracy\n",
    "print(\"Mean cross-validation accuracy:\", np.mean(cv_scores))"
   ]
  },
  {
   "cell_type": "code",
   "execution_count": 32,
   "metadata": {},
   "outputs": [
    {
     "name": "stdout",
     "output_type": "stream",
     "text": [
      "Random Forest Classifier saved to: models/Fertilizer_recommend_randomForest_Classifier_Final_karlo_25_july_Model\n"
     ]
    }
   ],
   "source": [
    "# Save the model to a file\n",
    "joblib.dump(rf, \"../models/Fertilizer_recommend_randomForest_Classifier_Final_karlo_25_july_Model.joblib\")\n",
    "\n",
    "print(\"Random Forest Classifier saved to: models/Fertilizer_recommend_randomForest_Classifier_Final_karlo_25_july_Model\")"
   ]
  },
  {
   "cell_type": "markdown",
   "metadata": {},
   "source": [
    "#### 4. Gradient Boosting Machine"
   ]
  },
  {
   "cell_type": "code",
   "execution_count": 33,
   "metadata": {},
   "outputs": [],
   "source": [
    "# xg boost\n",
    "# initialise the model\n",
    "xgb = XGBClassifier(random_state=142)\n",
    "\n",
    "# Fit the model\n",
    "xgb.fit(X_train, y_train)\n",
    "\n",
    "# predict the test set\n",
    "y_pred_xgb = xgb.predict(X_test)"
   ]
  },
  {
   "cell_type": "code",
   "execution_count": 34,
   "metadata": {},
   "outputs": [
    {
     "name": "stdout",
     "output_type": "stream",
     "text": [
      "\n",
      "Gradient Boosting Machine (XGBoost):\n",
      "Accuracy: 0.9999\n",
      "Precision: 0.9999\n",
      "Recall: 0.9999\n",
      "F1 Score: 0.9999\n"
     ]
    }
   ],
   "source": [
    "# Model Evaluation for XGBoost\n",
    "print(\"\\nGradient Boosting Machine (XGBoost):\")\n",
    "\n",
    "# Accuracy is the proportion of true results (both true positives and true negatives) among the total number of cases examined.\n",
    "print(f\"Accuracy: {accuracy_score(y_test, y_pred_xgb):.4f}\")\n",
    "\n",
    "# Precision is the ratio of correctly predicted positive observations to the total predicted positives.\n",
    "print(f\"Precision: {precision_score(y_test, y_pred_xgb, average='macro'):.4f}\")\n",
    "\n",
    "# Recall (Sensitivity) is the ratio of correctly predicted positive observations to the all observations in actual class.\n",
    "print(f\"Recall: {recall_score(y_test, y_pred_xgb, average='macro'):.4f}\")\n",
    "\n",
    "# F1 Score is the weighted average of Precision and Recall. It tries to find the balance between precision and recall.\n",
    "print(f\"F1 Score: {f1_score(y_test, y_pred_xgb, average='macro'):.4f}\")"
   ]
  },
  {
   "cell_type": "code",
   "execution_count": 35,
   "metadata": {},
   "outputs": [
    {
     "name": "stdout",
     "output_type": "stream",
     "text": [
      "Classification report:\n",
      "               precision    recall  f1-score   support\n",
      "\n",
      "           0       1.00      1.00      1.00      6399\n",
      "           1       1.00      1.00      1.00      6343\n",
      "           2       1.00      1.00      1.00      6447\n",
      "           3       1.00      1.00      1.00      6490\n",
      "\n",
      "    accuracy                           1.00     25679\n",
      "   macro avg       1.00      1.00      1.00     25679\n",
      "weighted avg       1.00      1.00      1.00     25679\n",
      "\n"
     ]
    }
   ],
   "source": [
    "print(\"Classification report:\\n\", classification_report(y_test, y_pred_xgb))"
   ]
  },
  {
   "cell_type": "code",
   "execution_count": 36,
   "metadata": {},
   "outputs": [
    {
     "data": {
      "image/png": "[encoded data removed]",
      "text/plain": [
       "<Figure size 640x480 with 2 Axes>"
      ]
     },
     "metadata": {},
     "output_type": "display_data"
    }
   ],
   "source": [
    "from sklearn.metrics import confusion_matrix, ConfusionMatrixDisplay\n",
    "\n",
    "cm = confusion_matrix(y_test, y_pred_xgb, labels=xgb.classes_)\n",
    "disp = ConfusionMatrixDisplay(confusion_matrix=cm, display_labels=xgb.classes_)\n",
    "disp.plot(cmap='Greens')\n",
    "plt.xticks(rotation=90)\n",
    "\n",
    "# Saving the plot\n",
    "# plot_path = 'eda_charts/models_evals/xgboost_confusion_matrix.png'\n",
    "# plt.savefig(plot_path)\n",
    "\n",
    "plt.show()"
   ]
  },
  {
   "cell_type": "code",
   "execution_count": 48,
   "metadata": {},
   "outputs": [
    {
     "name": "stdout",
     "output_type": "stream",
     "text": [
      "Cross-validation accuracy scores: [0.98870717 0.99912383 0.9882204  1.         0.99990265 1.\n",
      " 1.         1.         1.         1.        ]\n",
      "Mean cross-validation accuracy: 0.9975954049844237\n"
     ]
    }
   ],
   "source": [
    "# Run 5-fold cross-validation\n",
    "cv_scores = cross_val_score(xgb, X, y, cv=10, scoring='accuracy')\n",
    "\n",
    "# Print accuracy for each fold\n",
    "print(\"Cross-validation accuracy scores:\", cv_scores)\n",
    "\n",
    "# Print average accuracy\n",
    "print(\"Mean cross-validation accuracy:\", np.mean(cv_scores))"
   ]
  },
  {
   "cell_type": "code",
   "execution_count": 37,
   "metadata": {},
   "outputs": [
    {
     "name": "stdout",
     "output_type": "stream",
     "text": [
      "Gradient Boosting Classifier saved to: models/Fertilizer_recommend_xgb_Classifier_Final_karlo_25_july_Mdodel\n"
     ]
    }
   ],
   "source": [
    "# Save the model to a file\n",
    "joblib.dump(rf, \"../models/Fertilizer_recommend_xgb__Final_karlo_25_july_Model.joblib\")\n",
    "\n",
    "print(\"Gradient Boosting Classifier saved to: models/Fertilizer_recommend_xgb_Classifier_Final_karlo_25_july_Mdodel\")"
   ]
  }
 ],
 "metadata": {
  "language_info": {
   "name": "python"
  }
 },
 "nbformat": 4,
 "nbformat_minor": 2
}
