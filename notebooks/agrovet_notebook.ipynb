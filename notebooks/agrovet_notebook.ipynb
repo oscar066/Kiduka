{
 "cells": [
  {
   "cell_type": "code",
   "execution_count": 2,
   "id": "851224e2",
   "metadata": {},
   "outputs": [],
   "source": [
    "from fastapi import FastAPI, HTTPException\n",
    "from pydantic import BaseModel, Field\n",
    "from typing import Dict, Any, List, Optional\n",
    "import joblib\n",
    "import numpy as np\n",
    "import pandas as pd\n",
    "from langgraph.graph import StateGraph, START, END\n",
    "from langchain_openai import ChatOpenAI\n",
    "from langchain_core.messages import HumanMessage, SystemMessage\n",
    "import os\n",
    "from datetime import datetime\n",
    "import logging\n",
    "from dotenv import load_dotenv\n",
    "\n",
    "# Import your preprocessing functions\n",
    "from preprocessing import SoilDataPreprocessor\n",
    "from schema import WorkflowState\n",
    "\n",
    "# Configure logging\n",
    "logging.basicConfig(level=logging.INFO)\n",
    "logger = logging.getLogger(__name__)"
   ]
  },
  {
   "cell_type": "code",
   "execution_count": 3,
   "id": "f0b89730",
   "metadata": {},
   "outputs": [],
   "source": [
    "import pandas as pd"
   ]
  },
  {
   "cell_type": "code",
   "execution_count": 4,
   "id": "e498c572",
   "metadata": {},
   "outputs": [
    {
     "name": "stderr",
     "output_type": "stream",
     "text": [
      "INFO:agrovet:Loaded agrovet data from /Users/oscar/Desktop/data-project/Fertiliser_Modelling/data/agrovet_data_cleaned.csv: 244 records\n",
      "INFO:agrovet:Original columns: ['name                                ', ' lat         ', ' lon         ', ' products     ', ' prices']\n",
      "INFO:agrovet:Normalized columns: ['name', 'lat', 'lon', 'products', 'prices']\n",
      "INFO:agrovet:Mapped columns: {'name': 'name', 'lat': 'lat', 'lon': 'lon', 'products': 'products', 'prices': 'prices'}\n",
      "INFO:agrovet:Final columns: ['name', 'lat', 'lon', 'products', 'prices']\n"
     ]
    }
   ],
   "source": [
    "import os\n",
    "import sys\n",
    "from pathlib import Path\n",
    "\n",
    "#sys.path.append(os.path.abspath(os.path.join(os.path.dirname(__file__), \"..\")))\n",
    "\n",
    "# Get the project root directory\n",
    "project_root = str(Path().absolute().parent)\n",
    "if project_root not in sys.path:\n",
    "    sys.path.insert(0, project_root)\n",
    "\n",
    "from models import ModelLoader\n",
    "from agrovet import AgrovetLocator\n",
    "\n",
    "loader = ModelLoader()\n",
    "# Simple one-liner test\n",
    "locator = AgrovetLocator.load_from_csv('/Users/oscar/Desktop/data-project/Fertiliser_Modelling/data/agrovet_data_cleaned.csv')"
   ]
  },
  {
   "cell_type": "code",
   "execution_count": null,
   "id": "5447c049",
   "metadata": {},
   "outputs": [],
   "source": [
    "results = locator.find_nearest_agrovets(-1.2921, 36.8219, top_k=10, max_distance_km=100)\n",
    "# show the results\n",
    "print(\"Nearest Agrovets:\")\n",
    "df_results = pd.DataFrame(results)\n",
    "df_results.head(10)"
   ]
  },
  {
   "cell_type": "code",
   "execution_count": 8,
   "id": "8bd49553",
   "metadata": {},
   "outputs": [
    {
     "name": "stdout",
     "output_type": "stream",
     "text": [
      "Found 5 agrovets near coordinates (0.4611, 34.1102):\n",
      "\n",
      "1. Hope Empire                         \n",
      "   Distance: 0.12 km\n",
      "   Location: (0.461285682, 34.11130629)\n",
      "   Products: NPK, CAN, DAP\n",
      "   Prices: [60.0, 55.0, 70.0]\n",
      "\n",
      "2. Rajagrodealers                      \n",
      "   Distance: 0.22 km\n",
      "   Location: (0.462715923, 34.11138475)\n",
      "   Products: NPK, CAN, DAP\n",
      "   Prices: [60.0, 55.0, 70.0]\n",
      "\n",
      "3. Multidose                           \n",
      "   Distance: 0.41 km\n",
      "   Location: (0.460094819, 34.11370419)\n",
      "   Products: UREA, CAN\n",
      "   Prices: [50.0, 55.0]\n",
      "\n",
      "4. Multidose Agro Supplies Ltd         \n",
      "   Distance: 0.45 km\n",
      "   Location: (0.4601167, 34.1141333)\n",
      "   Products: NPK, CAN, DAP\n",
      "   Prices: [60.0, 55.0, 70.0]\n",
      "\n",
      "5. Multidose Agro Supplies Ltd         \n",
      "   Distance: 0.46 km\n",
      "   Location: (0.4604002, 34.1142436)\n",
      "   Products: NPK, CAN, DAP\n",
      "   Prices: [60.0, 55.0, 70.0]\n",
      "\n",
      "==================================================\n"
     ]
    }
   ],
   "source": [
    "# Test with specific coordinates (example: Nairobi coordinates)\n",
    "user_latitude = 0.4611\n",
    "user_longitude = 34.1102\n",
    "\n",
    "# user_latitude = 0.1580948\n",
    "# user_longitude = 34.0982686\n",
    "\n",
    "# Find nearest agrovets\n",
    "results = locator.find_nearest_agrovets(\n",
    "    user_lat=user_latitude,\n",
    "    user_lon=user_longitude,\n",
    "    top_k=5,  # Number of nearest agrovets to return\n",
    "    max_distance_km=700 # Maximum search radius in km\n",
    ")\n",
    "\n",
    "# Display results\n",
    "print(f\"Found {len(results)} agrovets near coordinates ({user_latitude}, {user_longitude}):\")\n",
    "for i, agrovet in enumerate(results, 1):\n",
    "    print(f\"\\n{i}. {agrovet['name']}\")\n",
    "    print(f\"   Distance: {agrovet['distance_km']} km\")\n",
    "    print(f\"   Location: ({agrovet['latitude']}, {agrovet['longitude']})\")\n",
    "    print(f\"   Products: {', '.join(agrovet['products'])}\")\n",
    "    print(f\"   Prices: {agrovet['prices']}\")\n",
    "\n",
    "print(\"\\n\" + \"=\"*50)"
   ]
  },
  {
   "cell_type": "code",
   "execution_count": 16,
   "id": "908d5f6b",
   "metadata": {},
   "outputs": [
    {
     "name": "stdout",
     "output_type": "stream",
     "text": [
      "Found 5 agrovets near Mombasa:\n",
      "- Teso                                : 387.75 km away\n",
      "- Nnnn                                : 387.77 km away\n",
      "- Mary agrovet                        : 651.38 km away\n",
      "- Aimad Enterprises                   : 763.23 km away\n",
      "- Hybrid                              : 766.91 km away\n",
      "\n",
      "==================================================\n"
     ]
    }
   ],
   "source": [
    "# Test with different coordinates (example: Mombasa coordinates)\n",
    "mombasa_lat = -4.0435\n",
    "mombasa_lon = 39.6682\n",
    "\n",
    "results = locator.find_nearest_agrovets(\n",
    "    user_lat=mombasa_lat,\n",
    "    user_lon=mombasa_lon,\n",
    "    top_k=5,\n",
    "    max_distance_km=1000\n",
    ")\n",
    "\n",
    "print(f\"Found {len(results)} agrovets near Mombasa:\")\n",
    "for agrovet in results:\n",
    "    print(f\"- {agrovet['name']}: {agrovet['distance_km']} km away\")\n",
    "\n",
    "print(\"\\n\" + \"=\"*50)"
   ]
  },
  {
   "cell_type": "code",
   "execution_count": 18,
   "id": "010478d3",
   "metadata": {},
   "outputs": [
    {
     "name": "stderr",
     "output_type": "stream",
     "text": [
      "INFO:agrovet:No agrovets found within 75 km\n"
     ]
    },
    {
     "name": "stdout",
     "output_type": "stream",
     "text": [
      "\n",
      "Testing location: Nairobi\n",
      "Nearest agrovet: Nnnn                                 (55.17 km)\n",
      "\n",
      "Testing location: Kisumu\n",
      "Nearest agrovet: Aimad Enterprises                    (65.36 km)\n",
      "\n",
      "Testing location: Eldoret\n",
      "Nearest agrovet: Mary agrovet                         (52.94 km)\n",
      "\n",
      "Testing location: Nakuru\n",
      "No agrovets found in the area\n"
     ]
    }
   ],
   "source": [
    "# Method 3: Testing multiple locations\n",
    "test_locations = [\n",
    "    {\"name\": \"Nairobi\", \"lat\": -1.2921, \"lon\": 36.8219},\n",
    "    {\"name\": \"Kisumu\", \"lat\": -0.1022, \"lon\": 34.7617},\n",
    "    {\"name\": \"Eldoret\", \"lat\": 0.5143, \"lon\": 35.2698},\n",
    "    {\"name\": \"Nakuru\", \"lat\": -0.3031, \"lon\": 36.0800}\n",
    "]\n",
    "\n",
    "for location in test_locations:\n",
    "    print(f\"\\nTesting location: {location['name']}\")\n",
    "    results = locator.find_nearest_agrovets(\n",
    "        user_lat=location['lat'],\n",
    "        user_lon=location['lon'],\n",
    "        top_k=3,\n",
    "        max_distance_km=75\n",
    "    )\n",
    "    \n",
    "    if results:\n",
    "        nearest = results[0]\n",
    "        print(f\"Nearest agrovet: {nearest['name']} ({nearest['distance_km']} km)\")\n",
    "    else:\n",
    "        print(\"No agrovets found in the area\")"
   ]
  },
  {
   "cell_type": "code",
   "execution_count": null,
   "id": "9edf6854",
   "metadata": {},
   "outputs": [],
   "source": []
  },
  {
   "cell_type": "code",
   "execution_count": null,
   "id": "35f2b4e5",
   "metadata": {},
   "outputs": [],
   "source": []
  },
  {
   "cell_type": "code",
   "execution_count": null,
   "id": "0acfa4a5",
   "metadata": {},
   "outputs": [],
   "source": []
  },
  {
   "cell_type": "code",
   "execution_count": null,
   "id": "5bd2d48a",
   "metadata": {},
   "outputs": [],
   "source": []
  }
 ],
 "metadata": {
  "kernelspec": {
   "display_name": "venv",
   "language": "python",
   "name": "python3"
  },
  "language_info": {
   "codemirror_mode": {
    "name": "ipython",
    "version": 3
   },
   "file_extension": ".py",
   "mimetype": "text/x-python",
   "name": "python",
   "nbconvert_exporter": "python",
   "pygments_lexer": "ipython3",
   "version": "3.10.1"
  }
 },
 "nbformat": 4,
 "nbformat_minor": 5
}
